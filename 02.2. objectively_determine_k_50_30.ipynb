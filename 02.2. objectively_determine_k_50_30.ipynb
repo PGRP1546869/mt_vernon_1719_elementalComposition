{
 "cells": [
  {
   "cell_type": "markdown",
   "metadata": {},
   "source": [
    "This script was used to impute missing measurements due to analytical issues for the manuscript listed in the README. This script iteratively fits KNN models to artifical missing data (30%) and computes the distance between predicted and true values for 50 iterations. The outputs are plotted in `02.3 objectively_determine_k_plot.ipynb`."
   ]
  },
  {
   "cell_type": "markdown",
   "metadata": {},
   "source": [
    "The data going in to this script has duplicate samplenames removed and removes outliers that are more than 8 standard deviations away (see `02.1. filter_for_KNN.ipynb`)"
   ]
  },
  {
   "cell_type": "code",
   "execution_count": 1,
   "metadata": {},
   "outputs": [],
   "source": [
    "import pandas as pd\n",
    "import numpy as np\n",
    "import matplotlib.pyplot as plt\n",
    "import math\n",
    "import random\n",
    "import time\n",
    "from sklearn.impute import KNNImputer\n",
    "from sklearn.preprocessing import StandardScaler"
   ]
  },
  {
   "cell_type": "code",
   "execution_count": 2,
   "metadata": {},
   "outputs": [],
   "source": [
    "# populate dictionary\n",
    "store_estimations = {}\n",
    "for k in range(2,101,2):\n",
    "    key = f'k{k}'\n",
    "    store_estimations[key] = []"
   ]
  },
  {
   "cell_type": "code",
   "execution_count": 3,
   "metadata": {
    "scrolled": true
   },
   "outputs": [
    {
     "name": "stdout",
     "output_type": "stream",
     "text": [
      "CPU times: user 1h 29min, sys: 55min 10s, total: 2h 24min 11s\n",
      "Wall time: 38min 9s\n"
     ]
    }
   ],
   "source": [
    "%%time\n",
    "mses_per_k = {}\n",
    "# 50 reps of each k\n",
    "for i in range(50):\n",
    "    # STEP 1\n",
    "    # Starting with the original dataset, remove all samples with NA values.\n",
    "    vif_original = pd.read_csv(\"../df/vitis_ionomics_data_noOutlier.csv\")\n",
    "    vif_original = vif_original.dropna(axis='index')\n",
    "    # we reset the index so it goes from 0 to 5941, step of 1.\n",
    "    vif_original = vif_original.reset_index(drop=True)\n",
    "    list_of_ions = ['B11', 'Na23', 'Mg26', 'Al27', 'P31', 'S34',\n",
    "           'K39', 'Ca44', 'Fe54', 'Mn55', 'Co59', 'Ni60', 'Cu63', 'Zn66', 'As75',\n",
    "           'Se78', 'Rb85', 'Sr88', 'Mo98', 'Cd111']\n",
    "    # scale the data\n",
    "    scaler = StandardScaler()\n",
    "    vif_original[list_of_ions] = pd.DataFrame(scaler.fit(vif_original[list_of_ions]).transform(vif_original[list_of_ions]))\n",
    "\n",
    "    # STEP 2\n",
    "    # Randomly choose 30% of remaining samples\n",
    "    ten_percent = math.floor(.3 * vif_original.shape[0])\n",
    "    random_samples = sorted(set(random.sample(range(0,vif_original.shape[0]), k=ten_percent)))\n",
    "\n",
    "    # STEP 3\n",
    "    # Randomly introduce NAs into those samples. Store the true values.\n",
    "    store_true = []\n",
    "    for sample in random_samples:\n",
    "        ion_to_null = random.choice(list_of_ions)\n",
    "        true_val = vif_original.at[sample,ion_to_null]\n",
    "        store_true.append([sample, ion_to_null, true_val])\n",
    "        vif_original.at[sample,ion_to_null] = np.NaN\n",
    "        \n",
    "    # STEP 4\n",
    "    # Impute over values of k. (2 to 100 by step size of 2)\n",
    "    samplenames = vif_original.samplename\n",
    "    for k in range(2,101,2):\n",
    "        imputer = KNNImputer(n_neighbors=k)\n",
    "        imputed = pd.DataFrame(imputer.fit_transform(vif_original[list_of_ions]))\n",
    "        imputed.columns = list_of_ions\n",
    "        imputed['samplename'] = samplenames\n",
    "        \n",
    "        store_predicted = []\n",
    "        for value in store_true:\n",
    "            pred_val = imputed.at[value[0],value[1]]\n",
    "            store_predicted.append([value[0], value[1], pred_val])\n",
    "    \n",
    "        # STEP 5\n",
    "        # Calculate mean squared error\n",
    "        se = 0\n",
    "        for i in range(ten_percent):\n",
    "            #print(f'({store_true[i][2]} - {store_predicted[i][2]})^2 = {(store_true[i][2] - store_predicted[i][2]) ** 2}')\n",
    "            se += (store_true[i][2] - store_predicted[i][2]) ** 2\n",
    "        mse = se / ten_percent\n",
    "        access_key = f'k{k}'\n",
    "        store_estimations[access_key].append(mse)"
   ]
  },
  {
   "cell_type": "code",
   "execution_count": 4,
   "metadata": {},
   "outputs": [],
   "source": [
    "averages = []\n",
    "ks = []\n",
    "for k in range(2,101,2):\n",
    "    key = f'k{k}'\n",
    "    average = sum(store_estimations[key]) / len(store_estimations[key])\n",
    "    averages.append(average)\n",
    "    ks.append(k)"
   ]
  },
  {
   "cell_type": "code",
   "execution_count": 5,
   "metadata": {},
   "outputs": [
    {
     "data": {
      "text/plain": [
       "Text(0.5, 1.0, 'optimal value for k')"
      ]
     },
     "execution_count": 5,
     "metadata": {},
     "output_type": "execute_result"
    },
    {
     "data": {
      "image/png": "[encoded data removed]",
      "text/plain": [
       "<Figure size 432x288 with 1 Axes>"
      ]
     },
     "metadata": {
      "needs_background": "light"
     },
     "output_type": "display_data"
    }
   ],
   "source": [
    "plt.scatter(ks, averages, marker='o', c=averages, cmap='viridis')\n",
    "plt.xlabel('value for k')\n",
    "plt.xticks(np.arange(0, 101, 10))\n",
    "plt.ylabel('average mean square error')\n",
    "plt.title('optimal value for k')"
   ]
  },
  {
   "cell_type": "code",
   "execution_count": 6,
   "metadata": {},
   "outputs": [
    {
     "data": {
      "text/plain": [
       "50"
      ]
     },
     "execution_count": 6,
     "metadata": {},
     "output_type": "execute_result"
    }
   ],
   "source": [
    "len(averages)"
   ]
  },
  {
   "cell_type": "code",
   "execution_count": 7,
   "metadata": {},
   "outputs": [],
   "source": [
    "mse = pd.DataFrame(store_estimations)\n",
    "mse.to_csv('objectively_determine_k_50reps_30percent.csv', index=False)"
   ]
  }
 ],
 "metadata": {
  "kernelspec": {
   "display_name": "Python 3",
   "language": "python",
   "name": "python3"
  },
  "language_info": {
   "codemirror_mode": {
    "name": "ipython",
    "version": 3
   },
   "file_extension": ".py",
   "mimetype": "text/x-python",
   "name": "python",
   "nbconvert_exporter": "python",
   "pygments_lexer": "ipython3",
   "version": "3.7.7"
  }
 },
 "nbformat": 4,
 "nbformat_minor": 4
}
