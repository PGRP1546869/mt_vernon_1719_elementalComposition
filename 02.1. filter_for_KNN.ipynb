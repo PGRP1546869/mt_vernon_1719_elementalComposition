{
 "cells": [
  {
   "cell_type": "markdown",
   "metadata": {},
   "source": [
    "This is a script that removed ~108 outlier samples from the data set. "
   ]
  },
  {
   "cell_type": "code",
   "execution_count": 1,
   "metadata": {},
   "outputs": [
    {
     "name": "stderr",
     "output_type": "stream",
     "text": [
      "Registered S3 methods overwritten by 'ggplot2':\n",
      "  method         from \n",
      "  [.quosures     rlang\n",
      "  c.quosures     rlang\n",
      "  print.quosures rlang\n",
      "Registered S3 method overwritten by 'rvest':\n",
      "  method            from\n",
      "  read_xml.response xml2\n",
      "── Attaching packages ─────────────────────────────────────── tidyverse 1.2.1 ──\n",
      "✔ ggplot2 3.1.1       ✔ purrr   0.3.2  \n",
      "✔ tibble  2.1.1       ✔ dplyr   0.8.0.1\n",
      "✔ tidyr   0.8.3       ✔ stringr 1.4.0  \n",
      "✔ readr   1.3.1       ✔ forcats 0.4.0  \n",
      "── Conflicts ────────────────────────────────────────── tidyverse_conflicts() ──\n",
      "✖ dplyr::filter() masks stats::filter()\n",
      "✖ dplyr::lag()    masks stats::lag()\n"
     ]
    }
   ],
   "source": [
    "library(tidyverse)"
   ]
  },
  {
   "cell_type": "code",
   "execution_count": 2,
   "metadata": {},
   "outputs": [],
   "source": [
    "is_gt8 <- function(dist, d){\n",
    "    samples <- rownames(d)[dist > 8 | dist < -8]\n",
    "    return(samples)\n",
    "}\n",
    "\n",
    "zap_outliers <- function(data){\n",
    "    d <- as.data.frame(scale(data %>% select(B11:Cd111), center=T, scale=T))\n",
    "    rownames(d) <- data$samplename\n",
    "    x <- apply(d, 2, is_gt8, d=d)\n",
    "    outliers <- unique(unlist(x))\n",
    "    d_clean <- data[!(data$samplename %in% outliers),]\n",
    "    rownames(d_clean) <- d_clean$samplename\n",
    "    return(d_clean) \n",
    "}"
   ]
  },
  {
   "cell_type": "code",
   "execution_count": 3,
   "metadata": {},
   "outputs": [
    {
     "data": {
      "text/html": [
       "<ol class=list-inline>\n",
       "\t<li>7479</li>\n",
       "\t<li>21</li>\n",
       "</ol>\n"
      ],
      "text/latex": [
       "\\begin{enumerate*}\n",
       "\\item 7479\n",
       "\\item 21\n",
       "\\end{enumerate*}\n"
      ],
      "text/markdown": [
       "1. 7479\n",
       "2. 21\n",
       "\n",
       "\n"
      ],
      "text/plain": [
       "[1] 7479   21"
      ]
     },
     "metadata": {},
     "output_type": "display_data"
    }
   ],
   "source": [
    "data <- read.csv('./df/vitis_ionomics_data.csv')\n",
    "data$Li7 <- NULL\n",
    "data$X <- NULL\n",
    "dim(data)"
   ]
  },
  {
   "cell_type": "code",
   "execution_count": 4,
   "metadata": {},
   "outputs": [
    {
     "data": {
      "text/html": [
       "<ol class=list-inline>\n",
       "\t<li>7439</li>\n",
       "\t<li>21</li>\n",
       "</ol>\n"
      ],
      "text/latex": [
       "\\begin{enumerate*}\n",
       "\\item 7439\n",
       "\\item 21\n",
       "\\end{enumerate*}\n"
      ],
      "text/markdown": [
       "1. 7439\n",
       "2. 21\n",
       "\n",
       "\n"
      ],
      "text/plain": [
       "[1] 7439   21"
      ]
     },
     "metadata": {},
     "output_type": "display_data"
    }
   ],
   "source": [
    "dupes <- as.data.frame(table(data$samplename)[table(data$samplename) > 1])\n",
    "d <- data[!(data$samplename %in% dupes$Var1),]\n",
    "\n",
    "dim(d)"
   ]
  },
  {
   "cell_type": "code",
   "execution_count": 5,
   "metadata": {},
   "outputs": [
    {
     "data": {
      "text/html": [
       "<ol class=list-inline>\n",
       "\t<li>7331</li>\n",
       "\t<li>21</li>\n",
       "</ol>\n"
      ],
      "text/latex": [
       "\\begin{enumerate*}\n",
       "\\item 7331\n",
       "\\item 21\n",
       "\\end{enumerate*}\n"
      ],
      "text/markdown": [
       "1. 7331\n",
       "2. 21\n",
       "\n",
       "\n"
      ],
      "text/plain": [
       "[1] 7331   21"
      ]
     },
     "metadata": {},
     "output_type": "display_data"
    }
   ],
   "source": [
    "d <- zap_outliers(d)\n",
    "dim(d)"
   ]
  },
  {
   "cell_type": "code",
   "execution_count": 6,
   "metadata": {},
   "outputs": [
    {
     "data": {
      "text/plain": [
       "                  samplename        B11              Na23       \n",
       " 2017_anthesis_10_A_1_X:   1   Min.   :-22.57   Min.   :-20.11  \n",
       " 2017_anthesis_10_A_1_Y:   1   1st Qu.: 14.50   1st Qu.: 14.10  \n",
       " 2017_anthesis_10_A_1_Z:   1   Median : 18.85   Median : 23.11  \n",
       " 2017_anthesis_10_A_2_X:   1   Mean   : 21.88   Mean   : 36.21  \n",
       " 2017_anthesis_10_A_2_Y:   1   3rd Qu.: 26.43   3rd Qu.: 39.53  \n",
       " 2017_anthesis_10_A_2_Z:   1   Max.   :123.29   Max.   :450.75  \n",
       " (Other)               :7325                                    \n",
       "      Mg26              Al27             P31               S34          \n",
       " Min.   : -702.1   Min.   :-17.11   Min.   :   60.5   Min.   :-56835.3  \n",
       " 1st Qu.: 2022.6   1st Qu.: 10.04   1st Qu.: 1569.1   1st Qu.:   829.6  \n",
       " Median : 2536.5   Median : 17.98   Median : 2452.1   Median :  1478.6  \n",
       " Mean   : 2798.6   Mean   : 21.22   Mean   : 2728.4   Mean   :  1602.9  \n",
       " 3rd Qu.: 3332.3   3rd Qu.: 27.89   3rd Qu.: 3482.7   3rd Qu.:  2085.5  \n",
       " Max.   :13035.7   Max.   :186.17   Max.   :14486.0   Max.   :103656.6  \n",
       "                                    NA's   :46        NA's   :927       \n",
       "      K39             Ca44            Fe54             Mn55       \n",
       " Min.   :-2476   Min.   :-8544   Min.   :-78.84   Min.   :-29.99  \n",
       " 1st Qu.: 6288   1st Qu.: 9799   1st Qu.: 57.85   1st Qu.: 48.18  \n",
       " Median : 8729   Median :14714   Median : 71.35   Median : 71.17  \n",
       " Mean   : 9743   Mean   :15745   Mean   : 79.71   Mean   : 99.94  \n",
       " 3rd Qu.:12784   3rd Qu.:20177   3rd Qu.: 91.86   3rd Qu.:115.20  \n",
       " Max.   :47780   Max.   :91214   Max.   :415.63   Max.   :875.68  \n",
       " NA's   :852     NA's   :671                                      \n",
       "      Co59               Ni60              Cu63             Zn66        \n",
       " Min.   :-0.05479   Min.   :-0.3075   Min.   :-1.196   Min.   :  3.861  \n",
       " 1st Qu.: 0.12337   1st Qu.: 0.4170   1st Qu.: 4.185   1st Qu.: 14.342  \n",
       " Median : 0.23315   Median : 0.7679   Median : 5.971   Median : 21.227  \n",
       " Mean   : 0.29459   Mean   : 0.9806   Mean   : 8.374   Mean   : 33.671  \n",
       " 3rd Qu.: 0.39012   3rd Qu.: 1.2719   3rd Qu.:10.570   3rd Qu.: 37.606  \n",
       " Max.   : 2.76016   Max.   :10.2750   Max.   :63.504   Max.   :551.053  \n",
       "                    NA's   :46                                          \n",
       "      As75               Se78              Rb85             Sr88       \n",
       " Min.   :-0.11635   Min.   :-4.0688   Min.   :-1.251   Min.   :-27.32  \n",
       " 1st Qu.: 0.01196   1st Qu.: 0.0064   1st Qu.: 3.839   1st Qu.: 28.31  \n",
       " Median : 0.01957   Median : 0.0288   Median : 5.853   Median : 47.16  \n",
       " Mean   : 0.02348   Mean   : 0.0440   Mean   : 9.236   Mean   : 55.52  \n",
       " 3rd Qu.: 0.03045   3rd Qu.: 0.0618   3rd Qu.:10.641   3rd Qu.: 75.09  \n",
       " Max.   : 0.16156   Max.   :14.3758   Max.   :74.931   Max.   :307.68  \n",
       "                    NA's   :671                                        \n",
       "      Mo98             Cd111          \n",
       " Min.   :-0.0541   Min.   :-0.155080  \n",
       " 1st Qu.: 0.0844   1st Qu.: 0.004976  \n",
       " Median : 0.1146   Median : 0.013599  \n",
       " Mean   : 0.1327   Mean   : 0.022553  \n",
       " 3rd Qu.: 0.1591   3rd Qu.: 0.031290  \n",
       " Max.   : 0.9110   Max.   : 0.362773  \n",
       "                                      "
      ]
     },
     "metadata": {},
     "output_type": "display_data"
    }
   ],
   "source": [
    "summary(d)"
   ]
  },
  {
   "cell_type": "code",
   "execution_count": 7,
   "metadata": {},
   "outputs": [],
   "source": [
    "write.csv(d, \"./df/vitis_ionomics_data_noOutlier.csv\")"
   ]
  },
  {
   "cell_type": "code",
   "execution_count": null,
   "metadata": {},
   "outputs": [],
   "source": []
  }
 ],
 "metadata": {
  "kernelspec": {
   "display_name": "R",
   "language": "R",
   "name": "ir"
  },
  "language_info": {
   "codemirror_mode": "r",
   "file_extension": ".r",
   "mimetype": "text/x-r-source",
   "name": "R",
   "pygments_lexer": "r",
   "version": "3.6.1"
  }
 },
 "nbformat": 4,
 "nbformat_minor": 4
}
