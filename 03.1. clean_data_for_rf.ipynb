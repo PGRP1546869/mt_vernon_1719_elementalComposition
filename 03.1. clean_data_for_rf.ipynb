{
 "cells": [
  {
   "cell_type": "markdown",
   "metadata": {},
   "source": [
    "This script takes the raw data from the KNN imputation and merges the metadata back in for machine learning in python.\n",
    "\n",
    "The cells at the bottom of this manuscript"
   ]
  },
  {
   "cell_type": "code",
   "execution_count": 2,
   "metadata": {},
   "outputs": [],
   "source": [
    "library(dplyr)\n",
    "library(tidyverse)"
   ]
  },
  {
   "cell_type": "code",
   "execution_count": 3,
   "metadata": {},
   "outputs": [],
   "source": [
    "vif_imputed <- read.csv(\"./df/1719_ionomics_BACKTRANSFORMED.csv\")\n",
    "vif_meta <- read.csv(\"./df/vitis_ionomics_meta.csv\")\n",
    "vif_imputed <- vif_imputed  %>% rename(samplename=X)\n",
    "\n",
    "# Merge metadata and data to new df\n",
    "vif <- merge(vif_meta, vif_imputed, on='samplename')"
   ]
  },
  {
   "cell_type": "code",
   "execution_count": 4,
   "metadata": {},
   "outputs": [],
   "source": [
    "vif_imputed <- read.csv(\"./df/1719_ionomics_BACKTRANSFORMED.csv\")\n",
    "vif_meta <- read.csv(\"./df/vitis_ionomics_meta.csv\")\n",
    "vif_imputed <- vif_imputed  %>% rename(samplename=X)\n",
    "\n",
    "# Merge metadata and data to new df\n",
    "vif <- merge(vif_meta, vif_imputed, on='samplename')\n",
    "\n",
    "# Set row number to sample name- for consistency\n",
    "rownames(vif) <- vif$samplename\n",
    "\n",
    "vif$row <- as.factor(vif$row)\n",
    "vif$block <- as.factor(vif$block)\n",
    "vif$year <- as.factor(vif$year)\n",
    "\n",
    "# capitalize the Z in leafposition (change to valid data)\n",
    "vif$leafpos[which(vif$leafpos == 'z')] <- 'Z'\n",
    "\n",
    "# refactor\n",
    "vif$leafpos <- factor(vif$leafpos, levels=c('X', 'Y', 'Z'))\n",
    "\n",
    "# Changing order\n",
    "vif$rootstock <- factor(vif$rootstock, levels=c('Ungrafted', '1103P', '3309C', 'SO4'))\n",
    "vif$treatment <- factor(vif$treatment, levels=c('None', 'RDI', 'Full'))\n",
    "vif$phenology <- factor(vif$phenology, levels=c('anthesis','veraison','harvest'), labels=c('Anthesis', 'Veraison', 'Harvest'))"
   ]
  },
  {
   "cell_type": "code",
   "execution_count": 5,
   "metadata": {},
   "outputs": [
    {
     "data": {
      "text/html": [
       "<table class=\"dataframe\">\n",
       "<caption>A data.frame: 6 × 31</caption>\n",
       "<thead>\n",
       "\t<tr><th></th><th scope=col>samplename</th><th scope=col>X</th><th scope=col>year</th><th scope=col>phenology</th><th scope=col>row</th><th scope=col>replicate</th><th scope=col>cell</th><th scope=col>leafpos</th><th scope=col>treatment</th><th scope=col>block</th><th scope=col>⋯</th><th scope=col>Co</th><th scope=col>Ni</th><th scope=col>Cu</th><th scope=col>Zn</th><th scope=col>As</th><th scope=col>Se</th><th scope=col>Rb</th><th scope=col>Sr</th><th scope=col>Mo</th><th scope=col>Cd</th></tr>\n",
       "\t<tr><th></th><th scope=col>&lt;fct&gt;</th><th scope=col>&lt;int&gt;</th><th scope=col>&lt;fct&gt;</th><th scope=col>&lt;fct&gt;</th><th scope=col>&lt;fct&gt;</th><th scope=col>&lt;fct&gt;</th><th scope=col>&lt;fct&gt;</th><th scope=col>&lt;fct&gt;</th><th scope=col>&lt;fct&gt;</th><th scope=col>&lt;fct&gt;</th><th scope=col>⋯</th><th scope=col>&lt;dbl&gt;</th><th scope=col>&lt;dbl&gt;</th><th scope=col>&lt;dbl&gt;</th><th scope=col>&lt;dbl&gt;</th><th scope=col>&lt;dbl&gt;</th><th scope=col>&lt;dbl&gt;</th><th scope=col>&lt;dbl&gt;</th><th scope=col>&lt;dbl&gt;</th><th scope=col>&lt;dbl&gt;</th><th scope=col>&lt;dbl&gt;</th></tr>\n",
       "</thead>\n",
       "<tbody>\n",
       "\t<tr><th scope=row>2017_veraison_10_D_4_Y</th><td>2017_veraison_10_D_4_Y</td><td> 98</td><td>2017</td><td>Veraison</td><td>10</td><td>4 </td><td>D </td><td>Y </td><td>Full</td><td>1 </td><td>⋯</td><td>0.28926856</td><td>-0.3075442</td><td>-1.195943</td><td>13.31057</td><td>-0.026380301</td><td>-0.2526775</td><td>-1.250642</td><td>-27.31881</td><td> 0.116203557</td><td>0.014605108</td></tr>\n",
       "\t<tr><th scope=row>2018_harvest_15_B_4_Y</th><td>2018_harvest_15_B_4_Y </td><td>673</td><td>2018</td><td>Harvest </td><td>15</td><td>4 </td><td>B </td><td>Y </td><td>None</td><td>3 </td><td>⋯</td><td>0.03691148</td><td> 0.6940252</td><td> 2.318957</td><td>32.65913</td><td>-0.008651934</td><td> 0.4191440</td><td> 3.720592</td><td> 56.78785</td><td>-0.005972052</td><td>0.000692694</td></tr>\n",
       "\t<tr><th scope=row>NA</th><td>NA                    </td><td> NA</td><td>NA  </td><td>NA      </td><td>NA</td><td>NA</td><td>NA</td><td>NA</td><td>NA  </td><td>NA</td><td>⋯</td><td>        NA</td><td>        NA</td><td>       NA</td><td>      NA</td><td>          NA</td><td>        NA</td><td>       NA</td><td>       NA</td><td>          NA</td><td>         NA</td></tr>\n",
       "\t<tr><th scope=row>NA.1</th><td>NA                    </td><td> NA</td><td>NA  </td><td>NA      </td><td>NA</td><td>NA</td><td>NA</td><td>NA</td><td>NA  </td><td>NA</td><td>⋯</td><td>        NA</td><td>        NA</td><td>       NA</td><td>      NA</td><td>          NA</td><td>        NA</td><td>       NA</td><td>       NA</td><td>          NA</td><td>         NA</td></tr>\n",
       "\t<tr><th scope=row>NA.2</th><td>NA                    </td><td> NA</td><td>NA  </td><td>NA      </td><td>NA</td><td>NA</td><td>NA</td><td>NA</td><td>NA  </td><td>NA</td><td>⋯</td><td>        NA</td><td>        NA</td><td>       NA</td><td>      NA</td><td>          NA</td><td>        NA</td><td>       NA</td><td>       NA</td><td>          NA</td><td>         NA</td></tr>\n",
       "\t<tr><th scope=row>NA.3</th><td>NA                    </td><td> NA</td><td>NA  </td><td>NA      </td><td>NA</td><td>NA</td><td>NA</td><td>NA</td><td>NA  </td><td>NA</td><td>⋯</td><td>        NA</td><td>        NA</td><td>       NA</td><td>      NA</td><td>          NA</td><td>        NA</td><td>       NA</td><td>       NA</td><td>          NA</td><td>         NA</td></tr>\n",
       "</tbody>\n",
       "</table>\n"
      ],
      "text/latex": [
       "A data.frame: 6 × 31\n",
       "\\begin{tabular}{r|lllllllllllllllllllll}\n",
       "  & samplename & X & year & phenology & row & replicate & cell & leafpos & treatment & block & ⋯ & Co & Ni & Cu & Zn & As & Se & Rb & Sr & Mo & Cd\\\\\n",
       "  & <fct> & <int> & <fct> & <fct> & <fct> & <fct> & <fct> & <fct> & <fct> & <fct> & ⋯ & <dbl> & <dbl> & <dbl> & <dbl> & <dbl> & <dbl> & <dbl> & <dbl> & <dbl> & <dbl>\\\\\n",
       "\\hline\n",
       "\t2017\\_veraison\\_10\\_D\\_4\\_Y & 2017\\_veraison\\_10\\_D\\_4\\_Y &  98 & 2017 & Veraison & 10 & 4  & D  & Y  & Full & 1  & ⋯ & 0.28926856 & -0.3075442 & -1.195943 & 13.31057 & -0.026380301 & -0.2526775 & -1.250642 & -27.31881 &  0.116203557 & 0.014605108\\\\\n",
       "\t2018\\_harvest\\_15\\_B\\_4\\_Y & 2018\\_harvest\\_15\\_B\\_4\\_Y  & 673 & 2018 & Harvest  & 15 & 4  & B  & Y  & None & 3  & ⋯ & 0.03691148 &  0.6940252 &  2.318957 & 32.65913 & -0.008651934 &  0.4191440 &  3.720592 &  56.78785 & -0.005972052 & 0.000692694\\\\\n",
       "\tNA & NA                     &  NA & NA   & NA       & NA & NA & NA & NA & NA   & NA & ⋯ &         NA &         NA &        NA &       NA &           NA &         NA &        NA &        NA &           NA &          NA\\\\\n",
       "\tNA.1 & NA                     &  NA & NA   & NA       & NA & NA & NA & NA & NA   & NA & ⋯ &         NA &         NA &        NA &       NA &           NA &         NA &        NA &        NA &           NA &          NA\\\\\n",
       "\tNA.2 & NA                     &  NA & NA   & NA       & NA & NA & NA & NA & NA   & NA & ⋯ &         NA &         NA &        NA &       NA &           NA &         NA &        NA &        NA &           NA &          NA\\\\\n",
       "\tNA.3 & NA                     &  NA & NA   & NA       & NA & NA & NA & NA & NA   & NA & ⋯ &         NA &         NA &        NA &       NA &           NA &         NA &        NA &        NA &           NA &          NA\\\\\n",
       "\\end{tabular}\n"
      ],
      "text/markdown": [
       "\n",
       "A data.frame: 6 × 31\n",
       "\n",
       "| <!--/--> | samplename &lt;fct&gt; | X &lt;int&gt; | year &lt;fct&gt; | phenology &lt;fct&gt; | row &lt;fct&gt; | replicate &lt;fct&gt; | cell &lt;fct&gt; | leafpos &lt;fct&gt; | treatment &lt;fct&gt; | block &lt;fct&gt; | ⋯ ⋯ | Co &lt;dbl&gt; | Ni &lt;dbl&gt; | Cu &lt;dbl&gt; | Zn &lt;dbl&gt; | As &lt;dbl&gt; | Se &lt;dbl&gt; | Rb &lt;dbl&gt; | Sr &lt;dbl&gt; | Mo &lt;dbl&gt; | Cd &lt;dbl&gt; |\n",
       "|---|---|---|---|---|---|---|---|---|---|---|---|---|---|---|---|---|---|---|---|---|---|\n",
       "| 2017_veraison_10_D_4_Y | 2017_veraison_10_D_4_Y |  98 | 2017 | Veraison | 10 | 4  | D  | Y  | Full | 1  | ⋯ | 0.28926856 | -0.3075442 | -1.195943 | 13.31057 | -0.026380301 | -0.2526775 | -1.250642 | -27.31881 |  0.116203557 | 0.014605108 |\n",
       "| 2018_harvest_15_B_4_Y | 2018_harvest_15_B_4_Y  | 673 | 2018 | Harvest  | 15 | 4  | B  | Y  | None | 3  | ⋯ | 0.03691148 |  0.6940252 |  2.318957 | 32.65913 | -0.008651934 |  0.4191440 |  3.720592 |  56.78785 | -0.005972052 | 0.000692694 |\n",
       "| NA | NA                     |  NA | NA   | NA       | NA | NA | NA | NA | NA   | NA | ⋯ |         NA |         NA |        NA |       NA |           NA |         NA |        NA |        NA |           NA |          NA |\n",
       "| NA.1 | NA                     |  NA | NA   | NA       | NA | NA | NA | NA | NA   | NA | ⋯ |         NA |         NA |        NA |       NA |           NA |         NA |        NA |        NA |           NA |          NA |\n",
       "| NA.2 | NA                     |  NA | NA   | NA       | NA | NA | NA | NA | NA   | NA | ⋯ |         NA |         NA |        NA |       NA |           NA |         NA |        NA |        NA |           NA |          NA |\n",
       "| NA.3 | NA                     |  NA | NA   | NA       | NA | NA | NA | NA | NA   | NA | ⋯ |         NA |         NA |        NA |       NA |           NA |         NA |        NA |        NA |           NA |          NA |\n",
       "\n"
      ],
      "text/plain": [
       "                       samplename             X   year phenology row replicate\n",
       "2017_veraison_10_D_4_Y 2017_veraison_10_D_4_Y  98 2017 Veraison  10  4        \n",
       "2018_harvest_15_B_4_Y  2018_harvest_15_B_4_Y  673 2018 Harvest   15  4        \n",
       "NA                     NA                      NA NA   NA        NA  NA       \n",
       "NA.1                   NA                      NA NA   NA        NA  NA       \n",
       "NA.2                   NA                      NA NA   NA        NA  NA       \n",
       "NA.3                   NA                      NA NA   NA        NA  NA       \n",
       "                       cell leafpos treatment block ⋯ Co         Ni        \n",
       "2017_veraison_10_D_4_Y D    Y       Full      1     ⋯ 0.28926856 -0.3075442\n",
       "2018_harvest_15_B_4_Y  B    Y       None      3     ⋯ 0.03691148  0.6940252\n",
       "NA                     NA   NA      NA        NA    ⋯         NA         NA\n",
       "NA.1                   NA   NA      NA        NA    ⋯         NA         NA\n",
       "NA.2                   NA   NA      NA        NA    ⋯         NA         NA\n",
       "NA.3                   NA   NA      NA        NA    ⋯         NA         NA\n",
       "                       Cu        Zn       As           Se         Rb       \n",
       "2017_veraison_10_D_4_Y -1.195943 13.31057 -0.026380301 -0.2526775 -1.250642\n",
       "2018_harvest_15_B_4_Y   2.318957 32.65913 -0.008651934  0.4191440  3.720592\n",
       "NA                            NA       NA           NA         NA        NA\n",
       "NA.1                          NA       NA           NA         NA        NA\n",
       "NA.2                          NA       NA           NA         NA        NA\n",
       "NA.3                          NA       NA           NA         NA        NA\n",
       "                       Sr        Mo           Cd         \n",
       "2017_veraison_10_D_4_Y -27.31881  0.116203557 0.014605108\n",
       "2018_harvest_15_B_4_Y   56.78785 -0.005972052 0.000692694\n",
       "NA                            NA           NA          NA\n",
       "NA.1                          NA           NA          NA\n",
       "NA.2                          NA           NA          NA\n",
       "NA.3                          NA           NA          NA"
      ]
     },
     "metadata": {},
     "output_type": "display_data"
    }
   ],
   "source": [
    "head(vif[which(vif[-c(1:11)] < 0),])"
   ]
  },
  {
   "cell_type": "code",
   "execution_count": 6,
   "metadata": {},
   "outputs": [],
   "source": [
    "vif <- vif[-c(which(vif$samplename == '2017_veraison_10_D_4_Y' | vif$samplename == '2018_harvest_15_B_4_Y')), ]"
   ]
  },
  {
   "cell_type": "code",
   "execution_count": 7,
   "metadata": {},
   "outputs": [
    {
     "data": {
      "text/html": [
       "<table class=\"dataframe\">\n",
       "<caption>A data.frame: 6 × 31</caption>\n",
       "<thead>\n",
       "\t<tr><th></th><th scope=col>samplename</th><th scope=col>X</th><th scope=col>year</th><th scope=col>phenology</th><th scope=col>row</th><th scope=col>replicate</th><th scope=col>cell</th><th scope=col>leafpos</th><th scope=col>treatment</th><th scope=col>block</th><th scope=col>⋯</th><th scope=col>Co</th><th scope=col>Ni</th><th scope=col>Cu</th><th scope=col>Zn</th><th scope=col>As</th><th scope=col>Se</th><th scope=col>Rb</th><th scope=col>Sr</th><th scope=col>Mo</th><th scope=col>Cd</th></tr>\n",
       "\t<tr><th></th><th scope=col>&lt;fct&gt;</th><th scope=col>&lt;int&gt;</th><th scope=col>&lt;fct&gt;</th><th scope=col>&lt;fct&gt;</th><th scope=col>&lt;fct&gt;</th><th scope=col>&lt;fct&gt;</th><th scope=col>&lt;fct&gt;</th><th scope=col>&lt;fct&gt;</th><th scope=col>&lt;fct&gt;</th><th scope=col>&lt;fct&gt;</th><th scope=col>⋯</th><th scope=col>&lt;dbl&gt;</th><th scope=col>&lt;dbl&gt;</th><th scope=col>&lt;dbl&gt;</th><th scope=col>&lt;dbl&gt;</th><th scope=col>&lt;dbl&gt;</th><th scope=col>&lt;dbl&gt;</th><th scope=col>&lt;dbl&gt;</th><th scope=col>&lt;dbl&gt;</th><th scope=col>&lt;dbl&gt;</th><th scope=col>&lt;dbl&gt;</th></tr>\n",
       "</thead>\n",
       "<tbody>\n",
       "\t<tr><th scope=row>NA</th><td>NA</td><td>NA</td><td>NA</td><td>NA</td><td>NA</td><td>NA</td><td>NA</td><td>NA</td><td>NA</td><td>NA</td><td>⋯</td><td>NA</td><td>NA</td><td>NA</td><td>NA</td><td>NA</td><td>NA</td><td>NA</td><td>NA</td><td>NA</td><td>NA</td></tr>\n",
       "\t<tr><th scope=row>NA.1</th><td>NA</td><td>NA</td><td>NA</td><td>NA</td><td>NA</td><td>NA</td><td>NA</td><td>NA</td><td>NA</td><td>NA</td><td>⋯</td><td>NA</td><td>NA</td><td>NA</td><td>NA</td><td>NA</td><td>NA</td><td>NA</td><td>NA</td><td>NA</td><td>NA</td></tr>\n",
       "\t<tr><th scope=row>NA.2</th><td>NA</td><td>NA</td><td>NA</td><td>NA</td><td>NA</td><td>NA</td><td>NA</td><td>NA</td><td>NA</td><td>NA</td><td>⋯</td><td>NA</td><td>NA</td><td>NA</td><td>NA</td><td>NA</td><td>NA</td><td>NA</td><td>NA</td><td>NA</td><td>NA</td></tr>\n",
       "\t<tr><th scope=row>NA.3</th><td>NA</td><td>NA</td><td>NA</td><td>NA</td><td>NA</td><td>NA</td><td>NA</td><td>NA</td><td>NA</td><td>NA</td><td>⋯</td><td>NA</td><td>NA</td><td>NA</td><td>NA</td><td>NA</td><td>NA</td><td>NA</td><td>NA</td><td>NA</td><td>NA</td></tr>\n",
       "\t<tr><th scope=row>NA.4</th><td>NA</td><td>NA</td><td>NA</td><td>NA</td><td>NA</td><td>NA</td><td>NA</td><td>NA</td><td>NA</td><td>NA</td><td>⋯</td><td>NA</td><td>NA</td><td>NA</td><td>NA</td><td>NA</td><td>NA</td><td>NA</td><td>NA</td><td>NA</td><td>NA</td></tr>\n",
       "\t<tr><th scope=row>NA.5</th><td>NA</td><td>NA</td><td>NA</td><td>NA</td><td>NA</td><td>NA</td><td>NA</td><td>NA</td><td>NA</td><td>NA</td><td>⋯</td><td>NA</td><td>NA</td><td>NA</td><td>NA</td><td>NA</td><td>NA</td><td>NA</td><td>NA</td><td>NA</td><td>NA</td></tr>\n",
       "</tbody>\n",
       "</table>\n"
      ],
      "text/latex": [
       "A data.frame: 6 × 31\n",
       "\\begin{tabular}{r|lllllllllllllllllllll}\n",
       "  & samplename & X & year & phenology & row & replicate & cell & leafpos & treatment & block & ⋯ & Co & Ni & Cu & Zn & As & Se & Rb & Sr & Mo & Cd\\\\\n",
       "  & <fct> & <int> & <fct> & <fct> & <fct> & <fct> & <fct> & <fct> & <fct> & <fct> & ⋯ & <dbl> & <dbl> & <dbl> & <dbl> & <dbl> & <dbl> & <dbl> & <dbl> & <dbl> & <dbl>\\\\\n",
       "\\hline\n",
       "\tNA & NA & NA & NA & NA & NA & NA & NA & NA & NA & NA & ⋯ & NA & NA & NA & NA & NA & NA & NA & NA & NA & NA\\\\\n",
       "\tNA.1 & NA & NA & NA & NA & NA & NA & NA & NA & NA & NA & ⋯ & NA & NA & NA & NA & NA & NA & NA & NA & NA & NA\\\\\n",
       "\tNA.2 & NA & NA & NA & NA & NA & NA & NA & NA & NA & NA & ⋯ & NA & NA & NA & NA & NA & NA & NA & NA & NA & NA\\\\\n",
       "\tNA.3 & NA & NA & NA & NA & NA & NA & NA & NA & NA & NA & ⋯ & NA & NA & NA & NA & NA & NA & NA & NA & NA & NA\\\\\n",
       "\tNA.4 & NA & NA & NA & NA & NA & NA & NA & NA & NA & NA & ⋯ & NA & NA & NA & NA & NA & NA & NA & NA & NA & NA\\\\\n",
       "\tNA.5 & NA & NA & NA & NA & NA & NA & NA & NA & NA & NA & ⋯ & NA & NA & NA & NA & NA & NA & NA & NA & NA & NA\\\\\n",
       "\\end{tabular}\n"
      ],
      "text/markdown": [
       "\n",
       "A data.frame: 6 × 31\n",
       "\n",
       "| <!--/--> | samplename &lt;fct&gt; | X &lt;int&gt; | year &lt;fct&gt; | phenology &lt;fct&gt; | row &lt;fct&gt; | replicate &lt;fct&gt; | cell &lt;fct&gt; | leafpos &lt;fct&gt; | treatment &lt;fct&gt; | block &lt;fct&gt; | ⋯ ⋯ | Co &lt;dbl&gt; | Ni &lt;dbl&gt; | Cu &lt;dbl&gt; | Zn &lt;dbl&gt; | As &lt;dbl&gt; | Se &lt;dbl&gt; | Rb &lt;dbl&gt; | Sr &lt;dbl&gt; | Mo &lt;dbl&gt; | Cd &lt;dbl&gt; |\n",
       "|---|---|---|---|---|---|---|---|---|---|---|---|---|---|---|---|---|---|---|---|---|---|\n",
       "| NA | NA | NA | NA | NA | NA | NA | NA | NA | NA | NA | ⋯ | NA | NA | NA | NA | NA | NA | NA | NA | NA | NA |\n",
       "| NA.1 | NA | NA | NA | NA | NA | NA | NA | NA | NA | NA | ⋯ | NA | NA | NA | NA | NA | NA | NA | NA | NA | NA |\n",
       "| NA.2 | NA | NA | NA | NA | NA | NA | NA | NA | NA | NA | ⋯ | NA | NA | NA | NA | NA | NA | NA | NA | NA | NA |\n",
       "| NA.3 | NA | NA | NA | NA | NA | NA | NA | NA | NA | NA | ⋯ | NA | NA | NA | NA | NA | NA | NA | NA | NA | NA |\n",
       "| NA.4 | NA | NA | NA | NA | NA | NA | NA | NA | NA | NA | ⋯ | NA | NA | NA | NA | NA | NA | NA | NA | NA | NA |\n",
       "| NA.5 | NA | NA | NA | NA | NA | NA | NA | NA | NA | NA | ⋯ | NA | NA | NA | NA | NA | NA | NA | NA | NA | NA |\n",
       "\n"
      ],
      "text/plain": [
       "     samplename X  year phenology row replicate cell leafpos treatment block ⋯\n",
       "NA   NA         NA NA   NA        NA  NA        NA   NA      NA        NA    ⋯\n",
       "NA.1 NA         NA NA   NA        NA  NA        NA   NA      NA        NA    ⋯\n",
       "NA.2 NA         NA NA   NA        NA  NA        NA   NA      NA        NA    ⋯\n",
       "NA.3 NA         NA NA   NA        NA  NA        NA   NA      NA        NA    ⋯\n",
       "NA.4 NA         NA NA   NA        NA  NA        NA   NA      NA        NA    ⋯\n",
       "NA.5 NA         NA NA   NA        NA  NA        NA   NA      NA        NA    ⋯\n",
       "     Co Ni Cu Zn As Se Rb Sr Mo Cd\n",
       "NA   NA NA NA NA NA NA NA NA NA NA\n",
       "NA.1 NA NA NA NA NA NA NA NA NA NA\n",
       "NA.2 NA NA NA NA NA NA NA NA NA NA\n",
       "NA.3 NA NA NA NA NA NA NA NA NA NA\n",
       "NA.4 NA NA NA NA NA NA NA NA NA NA\n",
       "NA.5 NA NA NA NA NA NA NA NA NA NA"
      ]
     },
     "metadata": {},
     "output_type": "display_data"
    }
   ],
   "source": [
    "head(vif[which(vif[-c(1:11)] < 0),])"
   ]
  },
  {
   "cell_type": "code",
   "execution_count": 8,
   "metadata": {},
   "outputs": [],
   "source": [
    "write.csv(vif, './df/backtransformed_for_rf.csv')"
   ]
  }
 ],
 "metadata": {
  "kernelspec": {
   "display_name": "R",
   "language": "R",
   "name": "ir"
  },
  "language_info": {
   "codemirror_mode": "r",
   "file_extension": ".r",
   "mimetype": "text/x-r-source",
   "name": "R",
   "pygments_lexer": "r",
   "version": "3.6.1"
  }
 },
 "nbformat": 4,
 "nbformat_minor": 4
}
