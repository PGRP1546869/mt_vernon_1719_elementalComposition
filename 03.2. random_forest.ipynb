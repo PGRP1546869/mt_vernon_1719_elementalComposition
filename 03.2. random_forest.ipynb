{
 "cells": [
  {
   "cell_type": "markdown",
   "metadata": {},
   "source": [
    "This script fits random forests for most of the factors in the study (and then a couple extra). "
   ]
  },
  {
   "cell_type": "code",
   "execution_count": 1,
   "metadata": {},
   "outputs": [],
   "source": [
    "import pickle\n",
    "import pandas as pd\n",
    "import numpy as np\n",
    "import seaborn as sn\n",
    "import matplotlib.pyplot as plt\n",
    "from sklearn.ensemble import RandomForestClassifier\n",
    "from sklearn.preprocessing import LabelEncoder, normalize\n",
    "from sklearn.model_selection import train_test_split, cross_val_score, RandomizedSearchCV, cross_validate\n",
    "from sklearn.metrics import accuracy_score, classification_report, confusion_matrix, plot_confusion_matrix"
   ]
  },
  {
   "cell_type": "code",
   "execution_count": 8,
   "metadata": {},
   "outputs": [],
   "source": [
    "def get_data(data_to_read):\n",
    "    data = pd.read_csv(data_to_read)\n",
    "    return data\n",
    "\n",
    "def clean_data(data, determine_parents):\n",
    "    data['year'] = data['year'].astype(str)\n",
    "    data['block'] = data['block'].astype(str)\n",
    "    \n",
    "    if determine_parents:\n",
    "        # We are not testing ungrafted. Remove.\n",
    "        data = data[data.rootstock != 'Ungrafted']\n",
    "\n",
    "        rupestris = []\n",
    "        berlandieri = []\n",
    "        riparia = []\n",
    "\n",
    "        for row in data['rootstock']:\n",
    "            if row == '1103P':\n",
    "                rupestris.append('1')\n",
    "                berlandieri.append('1')\n",
    "                riparia.append('0')\n",
    "            elif row == 'SO4':\n",
    "                rupestris.append('0')\n",
    "                berlandieri.append('1')\n",
    "                riparia.append('1')\n",
    "            elif row == '3309C':\n",
    "                rupestris.append('1')\n",
    "                berlandieri.append('0')\n",
    "                riparia.append('1')\n",
    "\n",
    "        print(\"Length rupestris: \", len(rupestris))\n",
    "        print(\"Length berlandieri: \", len(berlandieri))\n",
    "        print(\"Length riparia: \", len(riparia))\n",
    "        data['rupestris'] = rupestris\n",
    "        data['berlandieri'] = berlandieri\n",
    "        data['riparia'] = riparia\n",
    "    return data\n",
    "    \n",
    "def create_random_grid():\n",
    "    # random search creation\n",
    "    # Number of trees in random forest\n",
    "    n_estimators = [int(x) for x in np.linspace(start = 200, stop = 2000, num = 10)]\n",
    "    # Number of features to consider at every split\n",
    "    max_features = ['auto', 'sqrt']\n",
    "    # Maximum number of levels in tree\n",
    "    max_depth = [int(x) for x in np.linspace(10, 110, num = 11)]\n",
    "    max_depth.append(None)\n",
    "    # Minimum number of samples required to split a node\n",
    "    min_samples_split = [2, 5, 10]\n",
    "    # Minimum number of samples required at each leaf node\n",
    "    min_samples_leaf = [1, 2, 4]\n",
    "    # Method of selecting samples for training each tree\n",
    "    bootstrap = [True, False]\n",
    "    # Create the random grid\n",
    "    random_grid = {'n_estimators': n_estimators,\n",
    "                   'max_features': max_features,\n",
    "                   'max_depth': max_depth,\n",
    "                   'min_samples_split': min_samples_split,\n",
    "                   'min_samples_leaf': min_samples_leaf,\n",
    "                   'bootstrap': bootstrap}\n",
    "    return random_grid\n",
    "\n",
    "def create_features(data, remove = 'columns'):\n",
    "    # keep all the ions, imputed data\n",
    "    features = data[['B', 'Na', 'Mg', 'Al','P', 'S', 'K', 'Ca', 'Fe', 'Mn', 'Co', 'Ni', 'Cu', 'Zn', 'As', 'Se', 'Rb', 'Sr', 'Mo', 'Cd']]\n",
    "    return features\n",
    "\n",
    "def create_labels(data, label1=\"\", label2=None, interaction=False):\n",
    "    if interaction:\n",
    "        print(label1)\n",
    "        print(label2)\n",
    "        labels = data[label1] + \"_\" + data[label2]\n",
    "        print(labels)\n",
    "    else:\n",
    "        labels = data[label1]\n",
    "        print(type(labels))\n",
    "    return labels\n",
    "\n",
    "def print_data_info(data, model_name, labels):\n",
    "    # sample size of dataframe we are using\n",
    "    print(f\"Model Name: {model_name}\")\n",
    "    print(f\"Sample size: {len(data)}\")\n",
    "\n",
    "    # number of each class- csv of numbers and plot to visualize\n",
    "    value_counts = labels.value_counts()\n",
    "    print(f\"Value Counts:\\n{value_counts}\")\n",
    "    value_counts.to_csv(f\"{model_name}_class_counts.csv\")\n",
    "\n",
    "    ax = value_counts.plot(kind='bar')\n",
    "    ax.figure.savefig(f\"{model_name}_class_counts.pdf\", bbox_inches=\"tight\")\n",
    "\n",
    "def t_t_split(features, labels, model_name):\n",
    "    # Train 80%, Test 20%\n",
    "    # Random split, keeps label proportions similar in splits\n",
    "    X_train, X_test, y_train, y_test = train_test_split(features, \n",
    "                                                      labels, \n",
    "                                                      test_size=0.20,\n",
    "                                                      random_state=42,\n",
    "                                                      stratify=labels)\n",
    "    X_train.to_csv(f'{model_name}_X_train.csv')\n",
    "    X_test.to_csv(f'{model_name}_X_test.csv')\n",
    "    y_train.to_csv(f'{model_name}_y_train.csv')\n",
    "    y_test.to_csv(f'{model_name}_y_test.csv')\n",
    "    return X_train, X_test, y_train, y_test\n",
    "\n",
    "def create_random_search(X_train, y_train, random_grid):\n",
    "    # RandomSearchCV model for Random Forest\n",
    "    rfc = RandomForestClassifier(random_state=42)\n",
    "    rf_randsearch = RandomizedSearchCV(estimator=rfc,\n",
    "                                       param_distributions=random_grid, \n",
    "                                       cv=5, \n",
    "                                       verbose=2, \n",
    "                                       random_state=42, \n",
    "                                       n_iter=100, \n",
    "                                       n_jobs=-1)\n",
    "    return rf_randsearch\n",
    "\n",
    "def fit_randsearch_model(X_train, y_train, rf_randsearch, model_name):\n",
    "    # Fit RandomSearchCV using training data\n",
    "    rf_randsearch.fit(X_train, y_train)\n",
    "    # Save model\n",
    "    pickle.dump(rf_randsearch, open(f'{model_name}_model.sav', 'wb'))\n",
    "\n",
    "def get_predictions(X_test, rf_randsearch, model_name):\n",
    "    # Make predictions on best estimator using test data\n",
    "    predict = rf_randsearch.best_estimator_.predict(X_test)\n",
    "    pd.DataFrame(predict).to_csv(f'{model_name}_predict.csv')\n",
    "    return predict\n",
    "\n",
    "def get_factors(x, y):\n",
    "    # Label Factorization- For Plot Vis\n",
    "    labels_factorization = {\n",
    "    'rootstock_year' : ['Ungrafted_2017', '1103P_2017', '3309C_2017', 'SO4_2017', 'Ungrafted_2018', '1103P_2018', '3309C_2018', 'SO4_2018', 'Ungrafted_2019', '1103P_2019', '3309C_2019', 'SO4_2019'],\n",
    "    'rootstock_phenology' : ['Ungrafted_Anthesis', '1103P_Anthesis', '3309C_Anthesis', 'SO4_Anthesis', 'Ungrafted_Veraison', '1103P_Veraison', '3309C_Veraison', 'SO4_Veraison', 'Ungrafted_Harvest', '1103P_Harvest', '3309C_Harvest', 'SO4_Harvest'],\n",
    "    'rootstock_leafpos' : ['Ungrafted_X', '1103P_X', '3309C_X', 'SO4_X', 'Ungrafted_Y', '1103P_Y', '3309C_Y', 'SO4_Y', 'Ungrafted_Z', '1103P_Z', '3309C_Z', 'SO4_Z'],\n",
    "    'rootstock_None' : ['Ungrafted', '1103P', '3309C', 'SO4'],\n",
    "    'phenology_leafpos' : ['Anthesis_X', 'Anthesis_Y', 'Anthesis_Z', 'Veraison_X', 'Veraison_Y', 'Veraison_Z', 'Harvest_X', 'Harvest_Y', 'Harvest_Z'],\n",
    "    'year_leafpos' : ['2017_X', '2017_Y', '2017_Z', '2018_X', '2018_Y', '2018_Z', '2019_X', '2019_Y', '2019_Z'],\n",
    "    'year_phenology' : ['2017_Anthesis', '2017_Veraison', '2017_Harvest', '2018_Anthesis', '2018_Veraison', '2018_Harvest', '2019_Anthesis', '2019_Veraison', '2019_Harvest'],\n",
    "    'year_None' : ['2017', '2018', '2019'],\n",
    "    'phenology_None' : ['Anthesis', 'Veraison', 'Harvest'],\n",
    "    'leafpos_None' : ['X', 'Y', 'Z'],\n",
    "    'treatment_None' : ['None', 'RDI', 'Full'],\n",
    "    'block_None' : ['1', '2', '3', '4', '5', '6'],\n",
    "    'rupestris_None' : ['0','1'],\n",
    "    'berlandieri_None' : ['0','1'],\n",
    "    'riparia_None' : ['0','1']\n",
    "    }\n",
    "    factors = labels_factorization[f'{x}_{y}']\n",
    "    return factors\n",
    "\n",
    "def get_stats(predict, X_test, y_test, rf_randsearch, factors, ions, plot_title, model_name):\n",
    "    # Confusion Matrix Statistics\n",
    "    cm_stats = confusion_matrix(y_test, predict, labels=factors)\n",
    "    cm_stats_normalized = normalize(cm_stats, norm=\"l1\")\n",
    "    cm_stats = pd.DataFrame(cm_stats, \n",
    "                          columns=factors, \n",
    "                          index=factors)\n",
    "    cm_stats.to_csv(f\"{model_name}_confusion_matrix_stats.csv\")\n",
    "    \n",
    "    # Accuracy Score\n",
    "    accuracy = accuracy_score(y_true=y_test, \n",
    "                            y_pred=predict)\n",
    "    print(f\"Accuracy of {model_name} is {accuracy}\")\n",
    "\n",
    "    # Classification Report\n",
    "    report = classification_report(y_test, predict, \n",
    "                                 output_dict=True)\n",
    "    report = pd.DataFrame(report).transpose()\n",
    "    report.to_csv(f\"{model_name}_classification_report.csv\")\n",
    "    \n",
    "    # Model Best Parameters- Grid Results\n",
    "    best_parameters = pd.DataFrame.from_dict(rf_randsearch.best_params_, orient='index')\n",
    "    best_parameters.to_csv(f\"{model_name}_chosen_parameters.csv\")\n",
    "    \n",
    "    # Model Best Parameters- Classifier Definition\n",
    "    classifier_def = repr(rf_randsearch.best_estimator_)\n",
    "    with open(f'{model_name}_classifier_definition.txt', 'a') as fp:\n",
    "        fp.write(classifier_def)\n",
    "    \n",
    "    # Model Feature Importances\n",
    "    feature_importances = rf_randsearch.best_estimator_.feature_importances_\n",
    "    feature_importances = pd.DataFrame(feature_importances,\n",
    "                                   index=ions,\n",
    "                                   columns=['importance'])\n",
    "    feature_importances.to_csv(f'{model_name}_feature_importances.csv')\n",
    "    \n",
    "    # Model Feature Importances Chart\n",
    "    feature_vis = feature_importances.plot.bar(rot=0, title=f'Feature Importances - {plot_title}')\n",
    "    feature_vis.figure.savefig(f'{model_name}_feature_importances_vis.pdf', bbox_inches='tight')\n",
    "    \n",
    "def cross_val_feature_importances(X_train, y_train, model_name, best_params):\n",
    "    rfc = RandomForestClassifier(random_state=42,\n",
    "                            n_estimators = best_params['n_estimators'],\n",
    "                            min_samples_split = best_params['min_samples_split'],\n",
    "                            min_samples_leaf = best_params['min_samples_leaf'],\n",
    "                            max_features = best_params['max_features'],\n",
    "                            max_depth = best_params['max_depth'],\n",
    "                            bootstrap = best_params['bootstrap'])\n",
    "    output = cross_validate(rfc, X_train, y_train, cv=10, scoring='accuracy', return_estimator=True)\n",
    "    \n",
    "    feature_importances = pd.DataFrame(index=X_train.columns)\n",
    "    for idx,estimator in enumerate(output['estimator']):\n",
    "        feature_importances[idx] = estimator.feature_importances_\n",
    "    feature_importances.sort_index()\n",
    "    feature_importances.to_csv(f'{model_name}_feature_importances_cross_val.csv')"
   ]
  },
  {
   "cell_type": "code",
   "execution_count": 3,
   "metadata": {},
   "outputs": [],
   "source": [
    "def random_forest_classification(classifications, name, data_to_read):     \n",
    "    data = get_data(data_to_read)\n",
    "    data = clean_data(data, determine_parents=False)\n",
    "    \n",
    "    # create and run and random forest model with cross validation\n",
    "    random_grid = create_random_grid()\n",
    "    features = create_features(data, remove=name)\n",
    "    for x,y in classifications:\n",
    "        if y == None:\n",
    "            plot_title = f'{x}'\n",
    "            interact = False\n",
    "        else:\n",
    "            plot_title = f'{x} {y}'\n",
    "            interact = True\n",
    "        \n",
    "        model_name = f\"{x}_{y}_{name}\"\n",
    "        labels = create_labels(data, x ,y, interact)\n",
    "        print_data_info(data, model_name, labels)\n",
    "        X_train, X_test, y_train, y_test = t_t_split(features, labels, model_name)\n",
    "        rf_randsearch = create_random_search(X_train, y_train, random_grid)\n",
    "        fit_randsearch_model(X_train, y_train, rf_randsearch, model_name)\n",
    "        predict = get_predictions(X_test, rf_randsearch, model_name)\n",
    "        factors = get_factors(x,y)\n",
    "        ions = X_train.columns\n",
    "        get_stats(predict, X_test, y_test, rf_randsearch, factors, ions, plot_title, model_name)\n",
    "        cross_val_feature_importances(X_train, y_train, model_name, rf_randsearch.best_params_)"
   ]
  },
  {
   "cell_type": "code",
   "execution_count": 9,
   "metadata": {},
   "outputs": [
    {
     "name": "stdout",
     "output_type": "stream",
     "text": [
      "phenology\n",
      "leafpos\n",
      "0       Anthesis_X\n",
      "1       Anthesis_Y\n",
      "2       Anthesis_Z\n",
      "3       Anthesis_X\n",
      "4       Anthesis_Y\n",
      "           ...    \n",
      "7321    Veraison_Y\n",
      "7322    Veraison_Z\n",
      "7323    Veraison_X\n",
      "7324    Veraison_Y\n",
      "7325    Veraison_Z\n",
      "Length: 7326, dtype: object\n",
      "Model Name: phenology_leafpos_bt_k10\n",
      "Sample size: 7326\n",
      "Value Counts:\n",
      "Anthesis_Y    845\n",
      "Anthesis_Z    831\n",
      "Veraison_Y    829\n",
      "Veraison_Z    825\n",
      "Anthesis_X    821\n",
      "Harvest_Y     795\n",
      "Harvest_Z     795\n",
      "Veraison_X    795\n",
      "Harvest_X     790\n",
      "dtype: int64\n"
     ]
    },
    {
     "name": "stderr",
     "output_type": "stream",
     "text": [
      "/xfs2/millerlab/tools/conda_envs/ml_env/lib/python3.7/site-packages/ipykernel_launcher.py:87: FutureWarning: The signature of `Series.to_csv` was aligned to that of `DataFrame.to_csv`, and argument 'header' will change its default value from False to True: please pass an explicit value to suppress this warning.\n"
     ]
    },
    {
     "name": "stdout",
     "output_type": "stream",
     "text": [
      "Fitting 5 folds for each of 100 candidates, totalling 500 fits\n"
     ]
    },
    {
     "name": "stderr",
     "output_type": "stream",
     "text": [
      "/xfs2/millerlab/tools/conda_envs/ml_env/lib/python3.7/site-packages/ipykernel_launcher.py:102: FutureWarning: The signature of `Series.to_csv` was aligned to that of `DataFrame.to_csv`, and argument 'header' will change its default value from False to True: please pass an explicit value to suppress this warning.\n",
      "/xfs2/millerlab/tools/conda_envs/ml_env/lib/python3.7/site-packages/ipykernel_launcher.py:103: FutureWarning: The signature of `Series.to_csv` was aligned to that of `DataFrame.to_csv`, and argument 'header' will change its default value from False to True: please pass an explicit value to suppress this warning.\n",
      "[Parallel(n_jobs=-1)]: Using backend LokyBackend with 40 concurrent workers.\n",
      "[Parallel(n_jobs=-1)]: Done  82 tasks      | elapsed:  1.6min\n",
      "[Parallel(n_jobs=-1)]: Done 285 tasks      | elapsed:  4.5min\n",
      "[Parallel(n_jobs=-1)]: Done 500 out of 500 | elapsed:  7.3min finished\n"
     ]
    },
    {
     "name": "stdout",
     "output_type": "stream",
     "text": [
      "Accuracy of phenology_leafpos_bt_k10 is 0.82537517053206\n",
      "year\n",
      "leafpos\n",
      "0       2017_X\n",
      "1       2017_Y\n",
      "2       2017_Z\n",
      "3       2017_X\n",
      "4       2017_Y\n",
      "         ...  \n",
      "7321    2019_Y\n",
      "7322    2019_Z\n",
      "7323    2019_X\n",
      "7324    2019_Y\n",
      "7325    2019_Z\n",
      "Length: 7326, dtype: object\n",
      "Model Name: year_leafpos_bt_k10\n",
      "Sample size: 7326\n",
      "Value Counts:\n",
      "2017_Z    849\n",
      "2017_Y    847\n",
      "2017_X    843\n",
      "2018_Y    843\n",
      "2018_Z    837\n",
      "2018_X    816\n",
      "2019_Y    779\n",
      "2019_Z    765\n",
      "2019_X    747\n",
      "dtype: int64\n"
     ]
    },
    {
     "name": "stderr",
     "output_type": "stream",
     "text": [
      "/xfs2/millerlab/tools/conda_envs/ml_env/lib/python3.7/site-packages/ipykernel_launcher.py:87: FutureWarning: The signature of `Series.to_csv` was aligned to that of `DataFrame.to_csv`, and argument 'header' will change its default value from False to True: please pass an explicit value to suppress this warning.\n"
     ]
    },
    {
     "name": "stdout",
     "output_type": "stream",
     "text": [
      "Fitting 5 folds for each of 100 candidates, totalling 500 fits\n"
     ]
    },
    {
     "name": "stderr",
     "output_type": "stream",
     "text": [
      "/xfs2/millerlab/tools/conda_envs/ml_env/lib/python3.7/site-packages/ipykernel_launcher.py:102: FutureWarning: The signature of `Series.to_csv` was aligned to that of `DataFrame.to_csv`, and argument 'header' will change its default value from False to True: please pass an explicit value to suppress this warning.\n",
      "/xfs2/millerlab/tools/conda_envs/ml_env/lib/python3.7/site-packages/ipykernel_launcher.py:103: FutureWarning: The signature of `Series.to_csv` was aligned to that of `DataFrame.to_csv`, and argument 'header' will change its default value from False to True: please pass an explicit value to suppress this warning.\n",
      "[Parallel(n_jobs=-1)]: Using backend LokyBackend with 40 concurrent workers.\n",
      "[Parallel(n_jobs=-1)]: Done  82 tasks      | elapsed:  1.5min\n",
      "[Parallel(n_jobs=-1)]: Done 285 tasks      | elapsed:  4.4min\n",
      "[Parallel(n_jobs=-1)]: Done 500 out of 500 | elapsed:  7.1min finished\n"
     ]
    },
    {
     "name": "stdout",
     "output_type": "stream",
     "text": [
      "Accuracy of year_leafpos_bt_k10 is 0.8158253751705321\n"
     ]
    },
    {
     "data": {
      "image/png": "[encoded data removed]",
      "text/plain": [
       "<Figure size 432x288 with 1 Axes>"
      ]
     },
     "metadata": {
      "needs_background": "light"
     },
     "output_type": "display_data"
    },
    {
     "data": {
      "image/png": "[encoded data removed]",
      "text/plain": [
       "<Figure size 432x288 with 1 Axes>"
      ]
     },
     "metadata": {
      "needs_background": "light"
     },
     "output_type": "display_data"
    },
    {
     "data": {
      "image/png": "[encoded data removed]",
      "text/plain": [
       "<Figure size 432x288 with 1 Axes>"
      ]
     },
     "metadata": {
      "needs_background": "light"
     },
     "output_type": "display_data"
    }
   ],
   "source": [
    "# these are the interactions to test\n",
    "classifications = [('phenology', 'leafpos'),\n",
    "                   ('year', 'leafpos')]\n",
    "\n",
    "random_forest_classification(classifications, 'bt_k10', 'backtransformed_for_rf.csv')"
   ]
  },
  {
   "cell_type": "code",
   "execution_count": null,
   "metadata": {},
   "outputs": [],
   "source": [
    "# these are the interactions to test\n",
    "classifications = [('year', 'phenology')]\n",
    "\n",
    "random_forest_classification(classifications, 'bt_k10', 'backtransformed_for_rf.csv')"
   ]
  },
  {
   "cell_type": "code",
   "execution_count": 5,
   "metadata": {},
   "outputs": [
    {
     "name": "stdout",
     "output_type": "stream",
     "text": [
      "rootstock\n",
      "year\n",
      "0       3309C_2017\n",
      "1       3309C_2017\n",
      "2       3309C_2017\n",
      "3       3309C_2017\n",
      "4       3309C_2017\n",
      "           ...    \n",
      "7321    1103P_2019\n",
      "7322    1103P_2019\n",
      "7323    1103P_2019\n",
      "7324    1103P_2019\n",
      "7325    1103P_2019\n",
      "Length: 7326, dtype: object\n",
      "Model Name: rootstock_year_bt_k10\n",
      "Sample size: 7326\n",
      "Value Counts:\n",
      "1103P_2017        638\n",
      "Ungrafted_2017    637\n",
      "3309C_2017        633\n",
      "SO4_2017          631\n",
      "3309C_2018        626\n",
      "1103P_2018        626\n",
      "Ungrafted_2018    625\n",
      "SO4_2018          619\n",
      "Ungrafted_2019    604\n",
      "1103P_2019        569\n",
      "SO4_2019          568\n",
      "3309C_2019        550\n",
      "dtype: int64\n"
     ]
    },
    {
     "name": "stderr",
     "output_type": "stream",
     "text": [
      "/xfs2/millerlab/tools/conda_envs/ml_env/lib/python3.7/site-packages/ipykernel_launcher.py:87: FutureWarning: The signature of `Series.to_csv` was aligned to that of `DataFrame.to_csv`, and argument 'header' will change its default value from False to True: please pass an explicit value to suppress this warning.\n",
      "/xfs2/millerlab/tools/conda_envs/ml_env/lib/python3.7/site-packages/ipykernel_launcher.py:102: FutureWarning: The signature of `Series.to_csv` was aligned to that of `DataFrame.to_csv`, and argument 'header' will change its default value from False to True: please pass an explicit value to suppress this warning.\n",
      "/xfs2/millerlab/tools/conda_envs/ml_env/lib/python3.7/site-packages/ipykernel_launcher.py:103: FutureWarning: The signature of `Series.to_csv` was aligned to that of `DataFrame.to_csv`, and argument 'header' will change its default value from False to True: please pass an explicit value to suppress this warning.\n",
      "[Parallel(n_jobs=-1)]: Using backend LokyBackend with 40 concurrent workers.\n"
     ]
    },
    {
     "name": "stdout",
     "output_type": "stream",
     "text": [
      "Fitting 5 folds for each of 100 candidates, totalling 500 fits\n"
     ]
    },
    {
     "name": "stderr",
     "output_type": "stream",
     "text": [
      "[Parallel(n_jobs=-1)]: Done  82 tasks      | elapsed:  1.6min\n",
      "[Parallel(n_jobs=-1)]: Done 285 tasks      | elapsed:  4.7min\n",
      "[Parallel(n_jobs=-1)]: Done 500 out of 500 | elapsed:  7.7min finished\n"
     ]
    },
    {
     "name": "stdout",
     "output_type": "stream",
     "text": [
      "Accuracy of rootstock_year_bt_k10 is 0.6957708049113234\n",
      "rootstock\n",
      "phenology\n",
      "0       3309C_Anthesis\n",
      "1       3309C_Anthesis\n",
      "2       3309C_Anthesis\n",
      "3       3309C_Anthesis\n",
      "4       3309C_Anthesis\n",
      "             ...      \n",
      "7321    1103P_Veraison\n",
      "7322    1103P_Veraison\n",
      "7323    1103P_Veraison\n",
      "7324    1103P_Veraison\n",
      "7325    1103P_Veraison\n",
      "Length: 7326, dtype: object\n",
      "Model Name: rootstock_phenology_bt_k10\n",
      "Sample size: 7326\n",
      "Value Counts:\n",
      "Ungrafted_Anthesis    632\n",
      "1103P_Anthesis        631\n",
      "Ungrafted_Harvest     624\n",
      "3309C_Anthesis        618\n",
      "1103P_Veraison        617\n",
      "SO4_Anthesis          616\n",
      "3309C_Veraison        613\n",
      "Ungrafted_Veraison    610\n",
      "SO4_Veraison          609\n",
      "SO4_Harvest           593\n",
      "1103P_Harvest         585\n",
      "3309C_Harvest         578\n",
      "dtype: int64\n"
     ]
    },
    {
     "name": "stderr",
     "output_type": "stream",
     "text": [
      "/xfs2/millerlab/tools/conda_envs/ml_env/lib/python3.7/site-packages/ipykernel_launcher.py:87: FutureWarning: The signature of `Series.to_csv` was aligned to that of `DataFrame.to_csv`, and argument 'header' will change its default value from False to True: please pass an explicit value to suppress this warning.\n"
     ]
    },
    {
     "name": "stdout",
     "output_type": "stream",
     "text": [
      "Fitting 5 folds for each of 100 candidates, totalling 500 fits\n"
     ]
    },
    {
     "name": "stderr",
     "output_type": "stream",
     "text": [
      "/xfs2/millerlab/tools/conda_envs/ml_env/lib/python3.7/site-packages/ipykernel_launcher.py:102: FutureWarning: The signature of `Series.to_csv` was aligned to that of `DataFrame.to_csv`, and argument 'header' will change its default value from False to True: please pass an explicit value to suppress this warning.\n",
      "/xfs2/millerlab/tools/conda_envs/ml_env/lib/python3.7/site-packages/ipykernel_launcher.py:103: FutureWarning: The signature of `Series.to_csv` was aligned to that of `DataFrame.to_csv`, and argument 'header' will change its default value from False to True: please pass an explicit value to suppress this warning.\n",
      "[Parallel(n_jobs=-1)]: Using backend LokyBackend with 40 concurrent workers.\n",
      "[Parallel(n_jobs=-1)]: Done  82 tasks      | elapsed:  1.7min\n",
      "[Parallel(n_jobs=-1)]: Done 285 tasks      | elapsed:  4.8min\n",
      "[Parallel(n_jobs=-1)]: Done 500 out of 500 | elapsed:  7.8min finished\n"
     ]
    },
    {
     "name": "stdout",
     "output_type": "stream",
     "text": [
      "Accuracy of rootstock_phenology_bt_k10 is 0.7148703956343793\n",
      "rootstock\n",
      "leafpos\n",
      "0       3309C_X\n",
      "1       3309C_Y\n",
      "2       3309C_Z\n",
      "3       3309C_X\n",
      "4       3309C_Y\n",
      "         ...   \n",
      "7321    1103P_Y\n",
      "7322    1103P_Z\n",
      "7323    1103P_X\n",
      "7324    1103P_Y\n",
      "7325    1103P_Z\n",
      "Length: 7326, dtype: object\n",
      "Model Name: rootstock_leafpos_bt_k10\n",
      "Sample size: 7326\n",
      "Value Counts:\n",
      "Ungrafted_Y    627\n",
      "Ungrafted_Z    624\n",
      "1103P_Z        619\n",
      "SO4_Y          616\n",
      "Ungrafted_X    615\n",
      "1103P_Y        615\n",
      "3309C_Y        611\n",
      "SO4_Z          605\n",
      "3309C_Z        603\n",
      "1103P_X        599\n",
      "SO4_X          597\n",
      "3309C_X        595\n",
      "dtype: int64\n"
     ]
    },
    {
     "name": "stderr",
     "output_type": "stream",
     "text": [
      "/xfs2/millerlab/tools/conda_envs/ml_env/lib/python3.7/site-packages/ipykernel_launcher.py:87: FutureWarning: The signature of `Series.to_csv` was aligned to that of `DataFrame.to_csv`, and argument 'header' will change its default value from False to True: please pass an explicit value to suppress this warning.\n",
      "/xfs2/millerlab/tools/conda_envs/ml_env/lib/python3.7/site-packages/ipykernel_launcher.py:102: FutureWarning: The signature of `Series.to_csv` was aligned to that of `DataFrame.to_csv`, and argument 'header' will change its default value from False to True: please pass an explicit value to suppress this warning.\n",
      "/xfs2/millerlab/tools/conda_envs/ml_env/lib/python3.7/site-packages/ipykernel_launcher.py:103: FutureWarning: The signature of `Series.to_csv` was aligned to that of `DataFrame.to_csv`, and argument 'header' will change its default value from False to True: please pass an explicit value to suppress this warning.\n",
      "[Parallel(n_jobs=-1)]: Using backend LokyBackend with 40 concurrent workers.\n"
     ]
    },
    {
     "name": "stdout",
     "output_type": "stream",
     "text": [
      "Fitting 5 folds for each of 100 candidates, totalling 500 fits\n"
     ]
    },
    {
     "name": "stderr",
     "output_type": "stream",
     "text": [
      "[Parallel(n_jobs=-1)]: Done  82 tasks      | elapsed:  1.6min\n",
      "[Parallel(n_jobs=-1)]: Done 285 tasks      | elapsed:  4.8min\n",
      "[Parallel(n_jobs=-1)]: Done 500 out of 500 | elapsed:  7.8min finished\n"
     ]
    },
    {
     "name": "stdout",
     "output_type": "stream",
     "text": [
      "Accuracy of rootstock_leafpos_bt_k10 is 0.5791268758526603\n",
      "<class 'pandas.core.series.Series'>\n",
      "Model Name: rootstock_None_bt_k10\n",
      "Sample size: 7326\n",
      "Value Counts:\n",
      "Ungrafted    1866\n",
      "1103P        1833\n",
      "SO4          1818\n",
      "3309C        1809\n",
      "Name: rootstock, dtype: int64\n"
     ]
    },
    {
     "name": "stderr",
     "output_type": "stream",
     "text": [
      "/xfs2/millerlab/tools/conda_envs/ml_env/lib/python3.7/site-packages/ipykernel_launcher.py:87: FutureWarning: The signature of `Series.to_csv` was aligned to that of `DataFrame.to_csv`, and argument 'header' will change its default value from False to True: please pass an explicit value to suppress this warning.\n"
     ]
    },
    {
     "name": "stdout",
     "output_type": "stream",
     "text": [
      "Fitting 5 folds for each of 100 candidates, totalling 500 fits\n"
     ]
    },
    {
     "name": "stderr",
     "output_type": "stream",
     "text": [
      "/xfs2/millerlab/tools/conda_envs/ml_env/lib/python3.7/site-packages/ipykernel_launcher.py:102: FutureWarning: The signature of `Series.to_csv` was aligned to that of `DataFrame.to_csv`, and argument 'header' will change its default value from False to True: please pass an explicit value to suppress this warning.\n",
      "/xfs2/millerlab/tools/conda_envs/ml_env/lib/python3.7/site-packages/ipykernel_launcher.py:103: FutureWarning: The signature of `Series.to_csv` was aligned to that of `DataFrame.to_csv`, and argument 'header' will change its default value from False to True: please pass an explicit value to suppress this warning.\n",
      "[Parallel(n_jobs=-1)]: Using backend LokyBackend with 40 concurrent workers.\n",
      "[Parallel(n_jobs=-1)]: Done  82 tasks      | elapsed:  1.5min\n",
      "[Parallel(n_jobs=-1)]: Done 285 tasks      | elapsed:  4.3min\n",
      "[Parallel(n_jobs=-1)]: Done 500 out of 500 | elapsed:  7.1min finished\n"
     ]
    },
    {
     "name": "stdout",
     "output_type": "stream",
     "text": [
      "Accuracy of rootstock_None_bt_k10 is 0.713506139154161\n",
      "<class 'pandas.core.series.Series'>\n",
      "Model Name: year_None_bt_k10\n",
      "Sample size: 7326\n",
      "Value Counts:\n",
      "2017    2539\n",
      "2018    2496\n",
      "2019    2291\n",
      "Name: year, dtype: int64\n"
     ]
    },
    {
     "name": "stderr",
     "output_type": "stream",
     "text": [
      "/xfs2/millerlab/tools/conda_envs/ml_env/lib/python3.7/site-packages/ipykernel_launcher.py:87: FutureWarning: The signature of `Series.to_csv` was aligned to that of `DataFrame.to_csv`, and argument 'header' will change its default value from False to True: please pass an explicit value to suppress this warning.\n"
     ]
    },
    {
     "name": "stdout",
     "output_type": "stream",
     "text": [
      "Fitting 5 folds for each of 100 candidates, totalling 500 fits\n"
     ]
    },
    {
     "name": "stderr",
     "output_type": "stream",
     "text": [
      "/xfs2/millerlab/tools/conda_envs/ml_env/lib/python3.7/site-packages/ipykernel_launcher.py:102: FutureWarning: The signature of `Series.to_csv` was aligned to that of `DataFrame.to_csv`, and argument 'header' will change its default value from False to True: please pass an explicit value to suppress this warning.\n",
      "/xfs2/millerlab/tools/conda_envs/ml_env/lib/python3.7/site-packages/ipykernel_launcher.py:103: FutureWarning: The signature of `Series.to_csv` was aligned to that of `DataFrame.to_csv`, and argument 'header' will change its default value from False to True: please pass an explicit value to suppress this warning.\n",
      "[Parallel(n_jobs=-1)]: Using backend LokyBackend with 40 concurrent workers.\n",
      "[Parallel(n_jobs=-1)]: Done  82 tasks      | elapsed:  1.4min\n",
      "[Parallel(n_jobs=-1)]: Done 285 tasks      | elapsed:  3.7min\n",
      "[Parallel(n_jobs=-1)]: Done 500 out of 500 | elapsed:  6.0min finished\n"
     ]
    },
    {
     "name": "stdout",
     "output_type": "stream",
     "text": [
      "Accuracy of year_None_bt_k10 is 0.9733969986357435\n",
      "<class 'pandas.core.series.Series'>\n",
      "Model Name: phenology_None_bt_k10\n",
      "Sample size: 7326\n",
      "Value Counts:\n",
      "Anthesis    2497\n",
      "Veraison    2449\n",
      "Harvest     2380\n",
      "Name: phenology, dtype: int64\n"
     ]
    },
    {
     "name": "stderr",
     "output_type": "stream",
     "text": [
      "/xfs2/millerlab/tools/conda_envs/ml_env/lib/python3.7/site-packages/ipykernel_launcher.py:87: FutureWarning: The signature of `Series.to_csv` was aligned to that of `DataFrame.to_csv`, and argument 'header' will change its default value from False to True: please pass an explicit value to suppress this warning.\n",
      "/xfs2/millerlab/tools/conda_envs/ml_env/lib/python3.7/site-packages/ipykernel_launcher.py:102: FutureWarning: The signature of `Series.to_csv` was aligned to that of `DataFrame.to_csv`, and argument 'header' will change its default value from False to True: please pass an explicit value to suppress this warning.\n",
      "/xfs2/millerlab/tools/conda_envs/ml_env/lib/python3.7/site-packages/ipykernel_launcher.py:103: FutureWarning: The signature of `Series.to_csv` was aligned to that of `DataFrame.to_csv`, and argument 'header' will change its default value from False to True: please pass an explicit value to suppress this warning.\n",
      "[Parallel(n_jobs=-1)]: Using backend LokyBackend with 40 concurrent workers.\n"
     ]
    },
    {
     "name": "stdout",
     "output_type": "stream",
     "text": [
      "Fitting 5 folds for each of 100 candidates, totalling 500 fits\n"
     ]
    },
    {
     "name": "stderr",
     "output_type": "stream",
     "text": [
      "[Parallel(n_jobs=-1)]: Done  82 tasks      | elapsed:  1.3min\n",
      "[Parallel(n_jobs=-1)]: Done 285 tasks      | elapsed:  3.6min\n",
      "[Parallel(n_jobs=-1)]: Done 500 out of 500 | elapsed:  6.0min finished\n"
     ]
    },
    {
     "name": "stdout",
     "output_type": "stream",
     "text": [
      "Accuracy of phenology_None_bt_k10 is 0.9890859481582538\n",
      "<class 'pandas.core.series.Series'>\n",
      "Model Name: leafpos_None_bt_k10\n",
      "Sample size: 7326\n",
      "Value Counts:\n",
      "Y    2469\n",
      "Z    2451\n",
      "X    2406\n",
      "Name: leafpos, dtype: int64\n"
     ]
    },
    {
     "name": "stderr",
     "output_type": "stream",
     "text": [
      "/xfs2/millerlab/tools/conda_envs/ml_env/lib/python3.7/site-packages/ipykernel_launcher.py:87: FutureWarning: The signature of `Series.to_csv` was aligned to that of `DataFrame.to_csv`, and argument 'header' will change its default value from False to True: please pass an explicit value to suppress this warning.\n"
     ]
    },
    {
     "name": "stdout",
     "output_type": "stream",
     "text": [
      "Fitting 5 folds for each of 100 candidates, totalling 500 fits\n"
     ]
    },
    {
     "name": "stderr",
     "output_type": "stream",
     "text": [
      "/xfs2/millerlab/tools/conda_envs/ml_env/lib/python3.7/site-packages/ipykernel_launcher.py:102: FutureWarning: The signature of `Series.to_csv` was aligned to that of `DataFrame.to_csv`, and argument 'header' will change its default value from False to True: please pass an explicit value to suppress this warning.\n",
      "/xfs2/millerlab/tools/conda_envs/ml_env/lib/python3.7/site-packages/ipykernel_launcher.py:103: FutureWarning: The signature of `Series.to_csv` was aligned to that of `DataFrame.to_csv`, and argument 'header' will change its default value from False to True: please pass an explicit value to suppress this warning.\n",
      "[Parallel(n_jobs=-1)]: Using backend LokyBackend with 40 concurrent workers.\n",
      "[Parallel(n_jobs=-1)]: Done  82 tasks      | elapsed:  1.4min\n",
      "[Parallel(n_jobs=-1)]: Done 285 tasks      | elapsed:  4.0min\n",
      "[Parallel(n_jobs=-1)]: Done 500 out of 500 | elapsed:  6.6min finished\n"
     ]
    },
    {
     "name": "stdout",
     "output_type": "stream",
     "text": [
      "Accuracy of leafpos_None_bt_k10 is 0.8212824010914052\n",
      "<class 'pandas.core.series.Series'>\n",
      "Model Name: treatment_None_bt_k10\n",
      "Sample size: 7326\n",
      "Value Counts:\n",
      "RDI     2459\n",
      "Full    2451\n",
      "None    2416\n",
      "Name: treatment, dtype: int64\n"
     ]
    },
    {
     "name": "stderr",
     "output_type": "stream",
     "text": [
      "/xfs2/millerlab/tools/conda_envs/ml_env/lib/python3.7/site-packages/ipykernel_launcher.py:87: FutureWarning: The signature of `Series.to_csv` was aligned to that of `DataFrame.to_csv`, and argument 'header' will change its default value from False to True: please pass an explicit value to suppress this warning.\n"
     ]
    },
    {
     "name": "stdout",
     "output_type": "stream",
     "text": [
      "Fitting 5 folds for each of 100 candidates, totalling 500 fits\n"
     ]
    },
    {
     "name": "stderr",
     "output_type": "stream",
     "text": [
      "/xfs2/millerlab/tools/conda_envs/ml_env/lib/python3.7/site-packages/ipykernel_launcher.py:102: FutureWarning: The signature of `Series.to_csv` was aligned to that of `DataFrame.to_csv`, and argument 'header' will change its default value from False to True: please pass an explicit value to suppress this warning.\n",
      "/xfs2/millerlab/tools/conda_envs/ml_env/lib/python3.7/site-packages/ipykernel_launcher.py:103: FutureWarning: The signature of `Series.to_csv` was aligned to that of `DataFrame.to_csv`, and argument 'header' will change its default value from False to True: please pass an explicit value to suppress this warning.\n",
      "[Parallel(n_jobs=-1)]: Using backend LokyBackend with 40 concurrent workers.\n",
      "[Parallel(n_jobs=-1)]: Done  82 tasks      | elapsed:  1.8min\n",
      "[Parallel(n_jobs=-1)]: Done 285 tasks      | elapsed:  5.1min\n",
      "[Parallel(n_jobs=-1)]: Done 500 out of 500 | elapsed:  8.4min finished\n"
     ]
    },
    {
     "name": "stdout",
     "output_type": "stream",
     "text": [
      "Accuracy of treatment_None_bt_k10 is 0.4358799454297408\n",
      "<class 'pandas.core.series.Series'>\n",
      "Model Name: block_None_bt_k10\n",
      "Sample size: 7326\n",
      "Value Counts:\n",
      "1    1236\n",
      "3    1233\n",
      "4    1230\n",
      "2    1222\n",
      "5    1216\n",
      "6    1189\n",
      "Name: block, dtype: int64\n"
     ]
    },
    {
     "name": "stderr",
     "output_type": "stream",
     "text": [
      "/xfs2/millerlab/tools/conda_envs/ml_env/lib/python3.7/site-packages/ipykernel_launcher.py:87: FutureWarning: The signature of `Series.to_csv` was aligned to that of `DataFrame.to_csv`, and argument 'header' will change its default value from False to True: please pass an explicit value to suppress this warning.\n"
     ]
    },
    {
     "name": "stdout",
     "output_type": "stream",
     "text": [
      "Fitting 5 folds for each of 100 candidates, totalling 500 fits\n"
     ]
    },
    {
     "name": "stderr",
     "output_type": "stream",
     "text": [
      "/xfs2/millerlab/tools/conda_envs/ml_env/lib/python3.7/site-packages/ipykernel_launcher.py:102: FutureWarning: The signature of `Series.to_csv` was aligned to that of `DataFrame.to_csv`, and argument 'header' will change its default value from False to True: please pass an explicit value to suppress this warning.\n",
      "/xfs2/millerlab/tools/conda_envs/ml_env/lib/python3.7/site-packages/ipykernel_launcher.py:103: FutureWarning: The signature of `Series.to_csv` was aligned to that of `DataFrame.to_csv`, and argument 'header' will change its default value from False to True: please pass an explicit value to suppress this warning.\n",
      "[Parallel(n_jobs=-1)]: Using backend LokyBackend with 40 concurrent workers.\n",
      "[Parallel(n_jobs=-1)]: Done  82 tasks      | elapsed:  1.7min\n",
      "[Parallel(n_jobs=-1)]: Done 285 tasks      | elapsed:  5.3min\n",
      "[Parallel(n_jobs=-1)]: Done 500 out of 500 | elapsed:  8.7min finished\n"
     ]
    },
    {
     "name": "stdout",
     "output_type": "stream",
     "text": [
      "Accuracy of block_None_bt_k10 is 0.31241473396998637\n"
     ]
    },
    {
     "data": {
      "image/png": "[encoded data removed]",
      "text/plain": [
       "<Figure size 432x288 with 1 Axes>"
      ]
     },
     "metadata": {
      "needs_background": "light"
     },
     "output_type": "display_data"
    },
    {
     "data": {
      "image/png": "[encoded data removed]",
      "text/plain": [
       "<Figure size 432x288 with 1 Axes>"
      ]
     },
     "metadata": {
      "needs_background": "light"
     },
     "output_type": "display_data"
    },
    {
     "data": {
      "image/png": "[encoded data removed]",
      "text/plain": [
       "<Figure size 432x288 with 1 Axes>"
      ]
     },
     "metadata": {
      "needs_background": "light"
     },
     "output_type": "display_data"
    },
    {
     "data": {
      "image/png": "[encoded data removed]",
      "text/plain": [
       "<Figure size 432x288 with 1 Axes>"
      ]
     },
     "metadata": {
      "needs_background": "light"
     },
     "output_type": "display_data"
    },
    {
     "data": {
      "image/png": "[encoded data removed]",
      "text/plain": [
       "<Figure size 432x288 with 1 Axes>"
      ]
     },
     "metadata": {
      "needs_background": "light"
     },
     "output_type": "display_data"
    },
    {
     "data": {
      "image/png": "[encoded data removed]",
      "text/plain": [
       "<Figure size 432x288 with 1 Axes>"
      ]
     },
     "metadata": {
      "needs_background": "light"
     },
     "output_type": "display_data"
    },
    {
     "data": {
      "image/png": "[encoded data removed]",
      "text/plain": [
       "<Figure size 432x288 with 1 Axes>"
      ]
     },
     "metadata": {
      "needs_background": "light"
     },
     "output_type": "display_data"
    },
    {
     "data": {
      "image/png": "[encoded data removed]",
      "text/plain": [
       "<Figure size 432x288 with 1 Axes>"
      ]
     },
     "metadata": {
      "needs_background": "light"
     },
     "output_type": "display_data"
    },
    {
     "data": {
      "image/png": "[encoded data removed]",
      "text/plain": [
       "<Figure size 432x288 with 1 Axes>"
      ]
     },
     "metadata": {
      "needs_background": "light"
     },
     "output_type": "display_data"
    },
    {
     "data": {
      "image/png": "[encoded data removed]",
      "text/plain": [
       "<Figure size 432x288 with 1 Axes>"
      ]
     },
     "metadata": {
      "needs_background": "light"
     },
     "output_type": "display_data"
    }
   ],
   "source": [
    "# these are the interactions to test\n",
    "classifications = [('rootstock', 'year'),\n",
    "                    ('rootstock', 'phenology'),\n",
    "                    ('rootstock', 'leafpos'),\n",
    "                    ('rootstock',None),\n",
    "                    ('year', None),\n",
    "                    ('phenology', None),\n",
    "                    ('leafpos', None),\n",
    "                    ('treatment', None),\n",
    "                    ('block', None)]\n",
    "\n",
    "random_forest_classification(classifications, 'bt_k10', 'backtransformed_for_rf.csv')"
   ]
  },
  {
   "cell_type": "code",
   "execution_count": 6,
   "metadata": {},
   "outputs": [],
   "source": [
    "def random_forest_classification_determine_parents(classifications, name, data_to_read):     \n",
    "    data = get_data(data_to_read)\n",
    "    data = clean_data(data, determine_parents=True)\n",
    "    \n",
    "    # create and run and random forest model with cross validation\n",
    "    random_grid = create_random_grid()\n",
    "    features = create_features(data, remove=name)\n",
    "    for x,y in classifications:\n",
    "        if y == None:\n",
    "            title = f'{x}'\n",
    "            interact = False\n",
    "        else:\n",
    "            title = f'{x} {y}'\n",
    "            interact = True\n",
    "        \n",
    "        model_name = f\"{x}_{y}_{name}\"\n",
    "        labels = create_labels(data, x ,y, interact)\n",
    "        print_data_info(data, model_name, labels)\n",
    "        X_train, X_test, y_train, y_test = t_t_split(features, labels, model_name)\n",
    "        rf_randsearch = create_random_search(X_train, y_train, random_grid)\n",
    "        fit_randsearch_model(X_train, y_train, rf_randsearch, model_name)\n",
    "        predict = get_predictions(X_test, rf_randsearch, model_name)\n",
    "        factors = get_factors(x,y)\n",
    "        ions = X_train.columns\n",
    "        get_stats(predict, X_test, y_test, rf_randsearch, factors, ions, title, model_name)\n",
    "        cross_val_feature_importances(X_train, y_train, model_name, rf_randsearch.best_params_)"
   ]
  },
  {
   "cell_type": "code",
   "execution_count": 7,
   "metadata": {},
   "outputs": [
    {
     "name": "stdout",
     "output_type": "stream",
     "text": [
      "Length rupestris:  5460\n",
      "Length berlandieri:  5460\n",
      "Length riparia:  5460\n",
      "<class 'pandas.core.series.Series'>\n",
      "Model Name: rupestris_None_bt_k10\n",
      "Sample size: 5460\n",
      "Value Counts:\n",
      "1    3642\n",
      "0    1818\n",
      "Name: rupestris, dtype: int64\n"
     ]
    },
    {
     "name": "stderr",
     "output_type": "stream",
     "text": [
      "/xfs2/millerlab/tools/conda_envs/ml_env/lib/python3.7/site-packages/ipykernel_launcher.py:34: SettingWithCopyWarning: \n",
      "A value is trying to be set on a copy of a slice from a DataFrame.\n",
      "Try using .loc[row_indexer,col_indexer] = value instead\n",
      "\n",
      "See the caveats in the documentation: http://pandas.pydata.org/pandas-docs/stable/user_guide/indexing.html#returning-a-view-versus-a-copy\n",
      "/xfs2/millerlab/tools/conda_envs/ml_env/lib/python3.7/site-packages/ipykernel_launcher.py:35: SettingWithCopyWarning: \n",
      "A value is trying to be set on a copy of a slice from a DataFrame.\n",
      "Try using .loc[row_indexer,col_indexer] = value instead\n",
      "\n",
      "See the caveats in the documentation: http://pandas.pydata.org/pandas-docs/stable/user_guide/indexing.html#returning-a-view-versus-a-copy\n",
      "/xfs2/millerlab/tools/conda_envs/ml_env/lib/python3.7/site-packages/ipykernel_launcher.py:36: SettingWithCopyWarning: \n",
      "A value is trying to be set on a copy of a slice from a DataFrame.\n",
      "Try using .loc[row_indexer,col_indexer] = value instead\n",
      "\n",
      "See the caveats in the documentation: http://pandas.pydata.org/pandas-docs/stable/user_guide/indexing.html#returning-a-view-versus-a-copy\n",
      "/xfs2/millerlab/tools/conda_envs/ml_env/lib/python3.7/site-packages/ipykernel_launcher.py:87: FutureWarning: The signature of `Series.to_csv` was aligned to that of `DataFrame.to_csv`, and argument 'header' will change its default value from False to True: please pass an explicit value to suppress this warning.\n"
     ]
    },
    {
     "name": "stdout",
     "output_type": "stream",
     "text": [
      "Fitting 5 folds for each of 100 candidates, totalling 500 fits\n"
     ]
    },
    {
     "name": "stderr",
     "output_type": "stream",
     "text": [
      "/xfs2/millerlab/tools/conda_envs/ml_env/lib/python3.7/site-packages/ipykernel_launcher.py:102: FutureWarning: The signature of `Series.to_csv` was aligned to that of `DataFrame.to_csv`, and argument 'header' will change its default value from False to True: please pass an explicit value to suppress this warning.\n",
      "/xfs2/millerlab/tools/conda_envs/ml_env/lib/python3.7/site-packages/ipykernel_launcher.py:103: FutureWarning: The signature of `Series.to_csv` was aligned to that of `DataFrame.to_csv`, and argument 'header' will change its default value from False to True: please pass an explicit value to suppress this warning.\n",
      "[Parallel(n_jobs=-1)]: Using backend LokyBackend with 40 concurrent workers.\n",
      "[Parallel(n_jobs=-1)]: Done  82 tasks      | elapsed:  1.1min\n",
      "[Parallel(n_jobs=-1)]: Done 285 tasks      | elapsed:  3.2min\n",
      "[Parallel(n_jobs=-1)]: Done 500 out of 500 | elapsed:  5.2min finished\n"
     ]
    },
    {
     "name": "stdout",
     "output_type": "stream",
     "text": [
      "Accuracy of rupestris_None_bt_k10 is 0.8543956043956044\n",
      "<class 'pandas.core.series.Series'>\n",
      "Model Name: berlandieri_None_bt_k10\n",
      "Sample size: 5460\n",
      "Value Counts:\n",
      "1    3651\n",
      "0    1809\n",
      "Name: berlandieri, dtype: int64\n"
     ]
    },
    {
     "name": "stderr",
     "output_type": "stream",
     "text": [
      "/xfs2/millerlab/tools/conda_envs/ml_env/lib/python3.7/site-packages/ipykernel_launcher.py:87: FutureWarning: The signature of `Series.to_csv` was aligned to that of `DataFrame.to_csv`, and argument 'header' will change its default value from False to True: please pass an explicit value to suppress this warning.\n",
      "/xfs2/millerlab/tools/conda_envs/ml_env/lib/python3.7/site-packages/ipykernel_launcher.py:102: FutureWarning: The signature of `Series.to_csv` was aligned to that of `DataFrame.to_csv`, and argument 'header' will change its default value from False to True: please pass an explicit value to suppress this warning.\n",
      "/xfs2/millerlab/tools/conda_envs/ml_env/lib/python3.7/site-packages/ipykernel_launcher.py:103: FutureWarning: The signature of `Series.to_csv` was aligned to that of `DataFrame.to_csv`, and argument 'header' will change its default value from False to True: please pass an explicit value to suppress this warning.\n",
      "[Parallel(n_jobs=-1)]: Using backend LokyBackend with 40 concurrent workers.\n"
     ]
    },
    {
     "name": "stdout",
     "output_type": "stream",
     "text": [
      "Fitting 5 folds for each of 100 candidates, totalling 500 fits\n"
     ]
    },
    {
     "name": "stderr",
     "output_type": "stream",
     "text": [
      "[Parallel(n_jobs=-1)]: Done  82 tasks      | elapsed:   56.0s\n",
      "[Parallel(n_jobs=-1)]: Done 285 tasks      | elapsed:  2.8min\n",
      "[Parallel(n_jobs=-1)]: Done 500 out of 500 | elapsed:  4.6min finished\n"
     ]
    },
    {
     "name": "stdout",
     "output_type": "stream",
     "text": [
      "Accuracy of berlandieri_None_bt_k10 is 0.8452380952380952\n",
      "<class 'pandas.core.series.Series'>\n",
      "Model Name: riparia_None_bt_k10\n",
      "Sample size: 5460\n",
      "Value Counts:\n",
      "1    3627\n",
      "0    1833\n",
      "Name: riparia, dtype: int64\n"
     ]
    },
    {
     "name": "stderr",
     "output_type": "stream",
     "text": [
      "/xfs2/millerlab/tools/conda_envs/ml_env/lib/python3.7/site-packages/ipykernel_launcher.py:87: FutureWarning: The signature of `Series.to_csv` was aligned to that of `DataFrame.to_csv`, and argument 'header' will change its default value from False to True: please pass an explicit value to suppress this warning.\n",
      "/xfs2/millerlab/tools/conda_envs/ml_env/lib/python3.7/site-packages/ipykernel_launcher.py:102: FutureWarning: The signature of `Series.to_csv` was aligned to that of `DataFrame.to_csv`, and argument 'header' will change its default value from False to True: please pass an explicit value to suppress this warning.\n",
      "/xfs2/millerlab/tools/conda_envs/ml_env/lib/python3.7/site-packages/ipykernel_launcher.py:103: FutureWarning: The signature of `Series.to_csv` was aligned to that of `DataFrame.to_csv`, and argument 'header' will change its default value from False to True: please pass an explicit value to suppress this warning.\n",
      "[Parallel(n_jobs=-1)]: Using backend LokyBackend with 40 concurrent workers.\n"
     ]
    },
    {
     "name": "stdout",
     "output_type": "stream",
     "text": [
      "Fitting 5 folds for each of 100 candidates, totalling 500 fits\n"
     ]
    },
    {
     "name": "stderr",
     "output_type": "stream",
     "text": [
      "[Parallel(n_jobs=-1)]: Done  82 tasks      | elapsed:   57.7s\n",
      "[Parallel(n_jobs=-1)]: Done 285 tasks      | elapsed:  2.8min\n",
      "[Parallel(n_jobs=-1)]: Done 500 out of 500 | elapsed:  4.6min finished\n"
     ]
    },
    {
     "name": "stdout",
     "output_type": "stream",
     "text": [
      "Accuracy of riparia_None_bt_k10 is 0.8498168498168498\n"
     ]
    },
    {
     "data": {
      "image/png": "[encoded data removed]",
      "text/plain": [
       "<Figure size 432x288 with 1 Axes>"
      ]
     },
     "metadata": {
      "needs_background": "light"
     },
     "output_type": "display_data"
    },
    {
     "data": {
      "image/png": "[encoded data removed]",
      "text/plain": [
       "<Figure size 432x288 with 1 Axes>"
      ]
     },
     "metadata": {
      "needs_background": "light"
     },
     "output_type": "display_data"
    },
    {
     "data": {
      "image/png": "[encoded data removed]",
      "text/plain": [
       "<Figure size 432x288 with 1 Axes>"
      ]
     },
     "metadata": {
      "needs_background": "light"
     },
     "output_type": "display_data"
    },
    {
     "data": {
      "image/png": "[encoded data removed]",
      "text/plain": [
       "<Figure size 432x288 with 1 Axes>"
      ]
     },
     "metadata": {
      "needs_background": "light"
     },
     "output_type": "display_data"
    }
   ],
   "source": [
    "classifications = [('rupestris', None),\n",
    "                   ('berlandieri', None),\n",
    "                   ('riparia', None)]\n",
    "\n",
    "random_forest_classification_determine_parents(classifications, 'bt_k10', 'backtransformed_for_rf.csv')"
   ]
  },
  {
   "cell_type": "code",
   "execution_count": null,
   "metadata": {},
   "outputs": [],
   "source": []
  },
  {
   "cell_type": "code",
   "execution_count": null,
   "metadata": {},
   "outputs": [],
   "source": []
  },
  {
   "cell_type": "code",
   "execution_count": null,
   "metadata": {},
   "outputs": [],
   "source": []
  },
  {
   "cell_type": "code",
   "execution_count": null,
   "metadata": {},
   "outputs": [],
   "source": []
  },
  {
   "cell_type": "code",
   "execution_count": null,
   "metadata": {},
   "outputs": [],
   "source": []
  },
  {
   "cell_type": "code",
   "execution_count": null,
   "metadata": {},
   "outputs": [],
   "source": []
  },
  {
   "cell_type": "code",
   "execution_count": 4,
   "metadata": {},
   "outputs": [],
   "source": [
    "import pickle\n",
    "import pandas as pd\n",
    "import numpy as np\n",
    "import seaborn as sn\n",
    "import matplotlib.pyplot as plt\n",
    "from sklearn.ensemble import RandomForestClassifier\n",
    "from sklearn.preprocessing import LabelEncoder, normalize\n",
    "from sklearn.model_selection import train_test_split, cross_val_score, RandomizedSearchCV, cross_validate\n",
    "from sklearn.metrics import accuracy_score, classification_report, confusion_matrix, plot_confusion_matrix"
   ]
  },
  {
   "cell_type": "code",
   "execution_count": 5,
   "metadata": {},
   "outputs": [],
   "source": [
    "def get_data(data_to_read):\n",
    "    data = pd.read_csv(data_to_read)\n",
    "    return data\n",
    "   \n",
    "def create_random_grid():\n",
    "    # random search creation\n",
    "    # Number of trees in random forest\n",
    "    n_estimators = [int(x) for x in np.linspace(start = 200, stop = 2000, num = 10)]\n",
    "    # Number of features to consider at every split\n",
    "    max_features = ['auto', 'sqrt']\n",
    "    # Maximum number of levels in tree\n",
    "    max_depth = [int(x) for x in np.linspace(10, 110, num = 11)]\n",
    "    max_depth.append(None)\n",
    "    # Minimum number of samples required to split a node\n",
    "    min_samples_split = [2, 5, 10]\n",
    "    # Minimum number of samples required at each leaf node\n",
    "    min_samples_leaf = [1, 2, 4]\n",
    "    # Method of selecting samples for training each tree\n",
    "    bootstrap = [True, False]\n",
    "    # Create the random grid\n",
    "    random_grid = {'n_estimators': n_estimators,\n",
    "                   'max_features': max_features,\n",
    "                   'max_depth': max_depth,\n",
    "                   'min_samples_split': min_samples_split,\n",
    "                   'min_samples_leaf': min_samples_leaf,\n",
    "                   'bootstrap': bootstrap}\n",
    "    return random_grid\n",
    "\n",
    "def create_features(data, remove = 'columns'):\n",
    "    # keep all the ions, imputed data\n",
    "    features = data[['B', 'Na', 'Mg', 'Al','P', 'S', 'K', 'Ca', 'Fe', 'Mn', 'Co', 'Ni', 'Cu', 'Zn', 'As', 'Se', 'Rb', 'Sr', 'Mo', 'Cd']]\n",
    "    return features\n",
    "\n",
    "def create_labels(data, label1=\"\", label2=None, interaction=False):\n",
    "    if interaction:\n",
    "        print(label1)\n",
    "        print(label2)\n",
    "        labels = data[label1] + \"_\" + data[label2]\n",
    "        print(labels)\n",
    "    else:\n",
    "        labels = data[label1]\n",
    "        print(type(labels))\n",
    "    return labels\n",
    "\n",
    "def print_data_info(data, model_name, labels):\n",
    "    # sample size of dataframe we are using\n",
    "    print(f\"Model Name: {model_name}\")\n",
    "    print(f\"Sample size: {len(data)}\")\n",
    "\n",
    "    # number of each class- csv of numbers and plot to visualize\n",
    "    value_counts = labels.value_counts()\n",
    "    print(f\"Value Counts:\\n{value_counts}\")\n",
    "    value_counts.to_csv(f\"{model_name}_class_counts.csv\")\n",
    "\n",
    "    ax = value_counts.plot(kind='bar')\n",
    "    ax.figure.savefig(f\"{model_name}_class_counts.pdf\", bbox_inches=\"tight\")\n",
    "\n",
    "def t_t_split(features, labels, model_name):\n",
    "    # Train 80%, Test 20%\n",
    "    # Random split, keeps label proportions similar in splits\n",
    "    X_train, X_test, y_train, y_test = train_test_split(features, \n",
    "                                                      labels, \n",
    "                                                      test_size=0.20,\n",
    "                                                      random_state=42,\n",
    "                                                      stratify=labels)\n",
    "    X_train.to_csv(f'{model_name}_X_train.csv')\n",
    "    X_test.to_csv(f'{model_name}_X_test.csv')\n",
    "    y_train.to_csv(f'{model_name}_y_train.csv')\n",
    "    y_test.to_csv(f'{model_name}_y_test.csv')\n",
    "    return X_train, X_test, y_train, y_test\n",
    "\n",
    "def create_random_search(X_train, y_train, random_grid):\n",
    "    # RandomSearchCV model for Random Forest\n",
    "    rfc = RandomForestClassifier(random_state=42)\n",
    "    rf_randsearch = RandomizedSearchCV(estimator=rfc,\n",
    "                                       param_distributions=random_grid, \n",
    "                                       cv=5, \n",
    "                                       verbose=2, \n",
    "                                       random_state=42, \n",
    "                                       n_iter=100, \n",
    "                                       n_jobs=-1)\n",
    "    return rf_randsearch\n",
    "\n",
    "def fit_randsearch_model(X_train, y_train, rf_randsearch, model_name):\n",
    "    # Fit RandomSearchCV using training data\n",
    "    rf_randsearch.fit(X_train, y_train)\n",
    "    # Save model\n",
    "    pickle.dump(rf_randsearch, open(f'{model_name}_model.sav', 'wb'))\n",
    "\n",
    "def get_predictions(X_test, rf_randsearch, model_name):\n",
    "    # Make predictions on best estimator using test data\n",
    "    predict = rf_randsearch.best_estimator_.predict(X_test)\n",
    "    pd.DataFrame(predict).to_csv(f'{model_name}_predict.csv')\n",
    "    return predict\n",
    "\n",
    "def get_factors(x, y):\n",
    "    # Label Factorization- For Plot Vis\n",
    "    labels_factorization = {\n",
    "    'rootstock_year' : ['Ungrafted_2017', '1103P_2017', '3309C_2017', 'SO4_2017', 'Ungrafted_2018', '1103P_2018', '3309C_2018', 'SO4_2018', 'Ungrafted_2019', '1103P_2019', '3309C_2019', 'SO4_2019'],\n",
    "    'rootstock_phenology' : ['Ungrafted_Anthesis', '1103P_Anthesis', '3309C_Anthesis', 'SO4_Anthesis', 'Ungrafted_Veraison', '1103P_Veraison', '3309C_Veraison', 'SO4_Veraison', 'Ungrafted_Harvest', '1103P_Harvest', '3309C_Harvest', 'SO4_Harvest'],\n",
    "    'rootstock_leafpos' : ['Ungrafted_X', '1103P_X', '3309C_X', 'SO4_X', 'Ungrafted_Y', '1103P_Y', '3309C_Y', 'SO4_Y', 'Ungrafted_Z', '1103P_Z', '3309C_Z', 'SO4_Z'],\n",
    "    'rootstock_None' : ['Ungrafted', '1103P', '3309C', 'SO4'],\n",
    "    'phenology_leafpos' : ['Anthesis_X', 'Anthesis_Y', 'Anthesis_Z', 'Veraison_X', 'Veraison_Y', 'Veraison_Z', 'Harvest_X', 'Harvest_Y', 'Harvest_Z'],\n",
    "    'year_leafpos' : ['2017_X', '2017_Y', '2017_Z', '2018_X', '2018_Y', '2018_Z', '2019_X', '2019_Y', '2019_Z'],\n",
    "    'year_None' : ['2017', '2018', '2019'],\n",
    "    'phenology_None' : ['Anthesis', 'Veraison', 'Harvest'],\n",
    "    'leafpos_None' : ['X', 'Y', 'Z'],\n",
    "    'treatment_None' : ['None', 'RDI', 'Full'],\n",
    "    'block_None' : ['1', '2', '3', '4', '5', '6'],\n",
    "    'rupestris_None' : ['0','1'],\n",
    "    'berlandieri_None' : ['0','1'],\n",
    "    'riparia_None' : ['0','1'],\n",
    "    'grafted_None' : ['0', '1'],\n",
    "    }\n",
    "    factors = labels_factorization[f'{x}_{y}']\n",
    "    return factors\n",
    "\n",
    "def get_stats(predict, X_test, y_test, rf_randsearch, factors, ions, plot_title, model_name):\n",
    "    # Confusion Matrix Statistics\n",
    "    cm_stats = confusion_matrix(y_test, predict, labels=factors)\n",
    "    cm_stats_normalized = normalize(cm_stats, norm=\"l1\")\n",
    "    cm_stats = pd.DataFrame(cm_stats, \n",
    "                          columns=factors, \n",
    "                          index=factors)\n",
    "    cm_stats.to_csv(f\"{model_name}_confusion_matrix_stats.csv\")\n",
    "    \n",
    "    # Accuracy Score\n",
    "    accuracy = accuracy_score(y_true=y_test, \n",
    "                            y_pred=predict)\n",
    "    print(f\"Accuracy of {model_name} is {accuracy}\")\n",
    "\n",
    "    # Classification Report\n",
    "    report = classification_report(y_test, predict, \n",
    "                                 output_dict=True)\n",
    "    report = pd.DataFrame(report).transpose()\n",
    "    report.to_csv(f\"{model_name}_classification_report.csv\")\n",
    "    \n",
    "    # Model Best Parameters- Grid Results\n",
    "    best_parameters = pd.DataFrame.from_dict(rf_randsearch.best_params_, orient='index')\n",
    "    best_parameters.to_csv(f\"{model_name}_chosen_parameters.csv\")\n",
    "    \n",
    "    # Model Best Parameters- Classifier Definition\n",
    "    classifier_def = repr(rf_randsearch.best_estimator_)\n",
    "    with open(f'{model_name}_classifier_definition.txt', 'a') as fp:\n",
    "        fp.write(classifier_def)\n",
    "    \n",
    "    # Model Feature Importances\n",
    "    feature_importances = rf_randsearch.best_estimator_.feature_importances_\n",
    "    feature_importances = pd.DataFrame(feature_importances,\n",
    "                                   index=ions,\n",
    "                                   columns=['importance'])\n",
    "    feature_importances.to_csv(f'{model_name}_feature_importances.csv')\n",
    "    \n",
    "    # Model Feature Importances Chart\n",
    "    feature_vis = feature_importances.plot.bar(rot=0, title=f'Feature Importances - {plot_title}')\n",
    "    feature_vis.figure.savefig(f'{model_name}_feature_importances_vis.pdf', bbox_inches='tight')\n",
    "    \n",
    "def cross_val_feature_importances(X_train, y_train, model_name, best_params):\n",
    "    rfc = RandomForestClassifier(random_state=42,\n",
    "                            n_estimators = best_params['n_estimators'],\n",
    "                            min_samples_split = best_params['min_samples_split'],\n",
    "                            min_samples_leaf = best_params['min_samples_leaf'],\n",
    "                            max_features = best_params['max_features'],\n",
    "                            max_depth = best_params['max_depth'],\n",
    "                            bootstrap = best_params['bootstrap'])\n",
    "    output = cross_validate(rfc, X_train, y_train, cv=10, scoring='accuracy', return_estimator=True)\n",
    "    \n",
    "    feature_importances = pd.DataFrame(index=X_train.columns)\n",
    "    for idx,estimator in enumerate(output['estimator']):\n",
    "        feature_importances[idx] = estimator.feature_importances_\n",
    "    feature_importances.sort_index()\n",
    "    feature_importances.to_csv(f'{model_name}_feature_importances_cross_val.csv')"
   ]
  },
  {
   "cell_type": "code",
   "execution_count": 12,
   "metadata": {},
   "outputs": [],
   "source": [
    "def clean_data(data):\n",
    "    data['year'] = data['year'].astype(str)\n",
    "    data['block'] = data['block'].astype(str)\n",
    "\n",
    "    grafted = []\n",
    "    for row in data['rootstock']:\n",
    "        if row == '1103P':\n",
    "            grafted.append('1')\n",
    "        elif row == 'SO4':\n",
    "            grafted.append('1')\n",
    "        elif row == '3309C':\n",
    "            grafted.append('1')\n",
    "        else:\n",
    "            grafted.append('0')\n",
    "    data['grafted'] = grafted\n",
    "        \n",
    "    return data"
   ]
  },
  {
   "cell_type": "code",
   "execution_count": 7,
   "metadata": {},
   "outputs": [],
   "source": [
    "def random_forest_classification_gu(classifications, name, data_to_read):     \n",
    "    data = get_data(data_to_read)\n",
    "    data = clean_data(data)\n",
    "    \n",
    "    # create and run and random forest model with cross validation\n",
    "    random_grid = create_random_grid()\n",
    "    features = create_features(data, remove=name)\n",
    "    for x,y in classifications:\n",
    "        if y == None:\n",
    "            title = f'{x}'\n",
    "            interact = False\n",
    "        else:\n",
    "            title = f'{x} {y}'\n",
    "            interact = True\n",
    "        \n",
    "        model_name = f\"{x}_{y}_{name}\"\n",
    "        labels = create_labels(data, x ,y, interact)\n",
    "        print_data_info(data, model_name, labels)\n",
    "        X_train, X_test, y_train, y_test = t_t_split(features, labels, model_name)\n",
    "        rf_randsearch = create_random_search(X_train, y_train, random_grid)\n",
    "        fit_randsearch_model(X_train, y_train, rf_randsearch, model_name)\n",
    "        predict = get_predictions(X_test, rf_randsearch, model_name)\n",
    "        factors = get_factors(x,y)\n",
    "        ions = X_train.columns\n",
    "        get_stats(predict, X_test, y_test, rf_randsearch, factors, ions, title, model_name)\n",
    "        cross_val_feature_importances(X_train, y_train, model_name, rf_randsearch.best_params_)"
   ]
  },
  {
   "cell_type": "code",
   "execution_count": 14,
   "metadata": {},
   "outputs": [
    {
     "name": "stderr",
     "output_type": "stream",
     "text": [
      "IOPub data rate exceeded.\n",
      "The notebook server will temporarily stop sending output\n",
      "to the client in order to avoid crashing it.\n",
      "To change this limit, set the config variable\n",
      "`--NotebookApp.iopub_data_rate_limit`.\n",
      "\n",
      "Current values:\n",
      "NotebookApp.iopub_data_rate_limit=1000000.0 (bytes/sec)\n",
      "NotebookApp.rate_limit_window=3.0 (secs)\n",
      "\n",
      "/xfs2/millerlab/tools/conda_envs/ml_env/lib/python3.7/site-packages/ipykernel_launcher.py:53: FutureWarning: The signature of `Series.to_csv` was aligned to that of `DataFrame.to_csv`, and argument 'header' will change its default value from False to True: please pass an explicit value to suppress this warning.\n"
     ]
    },
    {
     "name": "stdout",
     "output_type": "stream",
     "text": [
      "Fitting 5 folds for each of 100 candidates, totalling 500 fits\n"
     ]
    },
    {
     "name": "stderr",
     "output_type": "stream",
     "text": [
      "/xfs2/millerlab/tools/conda_envs/ml_env/lib/python3.7/site-packages/ipykernel_launcher.py:68: FutureWarning: The signature of `Series.to_csv` was aligned to that of `DataFrame.to_csv`, and argument 'header' will change its default value from False to True: please pass an explicit value to suppress this warning.\n",
      "/xfs2/millerlab/tools/conda_envs/ml_env/lib/python3.7/site-packages/ipykernel_launcher.py:69: FutureWarning: The signature of `Series.to_csv` was aligned to that of `DataFrame.to_csv`, and argument 'header' will change its default value from False to True: please pass an explicit value to suppress this warning.\n",
      "[Parallel(n_jobs=-1)]: Using backend LokyBackend with 40 concurrent workers.\n",
      "[Parallel(n_jobs=-1)]: Done  82 tasks      | elapsed:  1.3min\n",
      "[Parallel(n_jobs=-1)]: Done 285 tasks      | elapsed:  3.9min\n",
      "[Parallel(n_jobs=-1)]: Done 500 out of 500 | elapsed:  6.3min finished\n"
     ]
    },
    {
     "name": "stdout",
     "output_type": "stream",
     "text": [
      "Accuracy of grafted_None_bt_k10 is 0.8472032742155525\n"
     ]
    },
    {
     "data": {
      "image/png": "[encoded data removed]",
      "text/plain": [
       "<Figure size 432x288 with 1 Axes>"
      ]
     },
     "metadata": {
      "needs_background": "light"
     },
     "output_type": "display_data"
    },
    {
     "data": {
      "image/png": "[encoded data removed]",
      "text/plain": [
       "<Figure size 432x288 with 1 Axes>"
      ]
     },
     "metadata": {
      "needs_background": "light"
     },
     "output_type": "display_data"
    }
   ],
   "source": [
    "random_forest_classification_gu([(\"grafted\", None)], 'bt_k10', 'backtransformed_for_rf.csv')"
   ]
  },
  {
   "cell_type": "code",
   "execution_count": 1,
   "metadata": {},
   "outputs": [
    {
     "name": "stdout",
     "output_type": "stream",
     "text": [
      "hello\n"
     ]
    }
   ],
   "source": [
    "print(\"hello\")"
   ]
  }
 ],
 "metadata": {
  "kernelspec": {
   "display_name": "Python 3",
   "language": "python",
   "name": "python3"
  },
  "language_info": {
   "codemirror_mode": {
    "name": "ipython",
    "version": 3
   },
   "file_extension": ".py",
   "mimetype": "text/x-python",
   "name": "python",
   "nbconvert_exporter": "python",
   "pygments_lexer": "ipython3",
   "version": "3.7.7"
  }
 },
 "nbformat": 4,
 "nbformat_minor": 2
}
